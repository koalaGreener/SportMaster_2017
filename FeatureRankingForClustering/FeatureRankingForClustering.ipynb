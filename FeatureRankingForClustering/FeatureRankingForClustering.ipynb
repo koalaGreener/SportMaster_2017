{
 "cells": [
  {
   "cell_type": "code",
   "execution_count": 2,
   "metadata": {
    "collapsed": false
   },
   "outputs": [
    {
     "name": "stderr",
     "output_type": "stream",
     "text": [
      "/home/jake/anaconda3/lib/python3.5/site-packages/sklearn/cross_validation.py:44: DeprecationWarning: This module was deprecated in version 0.18 in favor of the model_selection module into which all the refactored classes and functions are moved. Also note that the interface of the new CV iterators are different from that of this module. This module will be removed in 0.20.\n",
      "  \"This module will be removed in 0.20.\", DeprecationWarning)\n",
      "/home/jake/anaconda3/lib/python3.5/site-packages/sklearn/grid_search.py:43: DeprecationWarning: This module was deprecated in version 0.18 in favor of the model_selection module into which all the refactored classes and functions are moved. This module will be removed in 0.20.\n",
      "  DeprecationWarning)\n"
     ]
    }
   ],
   "source": [
    "import mysql.connector\n",
    "import pandas as pd\n",
    "import numpy as np\n",
    "import matplotlib.pyplot as plt\n",
    "from numpy import sort\n",
    "import xgboost\n",
    "from xgboost import XGBClassifier\n",
    "from xgboost import plot_importance\n",
    "from sklearn.cross_validation import train_test_split\n",
    "from sklearn import metrics\n",
    "from sklearn.grid_search import GridSearchCV\n",
    "from sklearn.metrics import classification_report\n",
    "from sklearn.metrics import accuracy_score\n",
    "from sklearn.feature_selection import SelectFromModel"
   ]
  },
  {
   "cell_type": "code",
   "execution_count": 3,
   "metadata": {
    "collapsed": false
   },
   "outputs": [],
   "source": [
    "# The config for the database\n",
    "config = {\n",
    "  'user': 'jake',\n",
    "  'password': 'jake',\n",
    "  'host': '127.0.0.1',\n",
    "  'database': 'SportMaster',\n",
    "  'raise_on_warnings': True,\n",
    "}\n",
    "cnx = mysql.connector.connect(**config)"
   ]
  },
  {
   "cell_type": "code",
   "execution_count": 60,
   "metadata": {
    "collapsed": true
   },
   "outputs": [],
   "source": [
    "#Personality\n",
    "Personality = (\"\"\"SELECT \n",
    "    client_reg_code, \n",
    "    TIMESTAMPDIFF(YEAR, sm_clients.birthday, '2017-4-12') AS age, \n",
    "    sex,\n",
    "    ismobile,\n",
    "    isemail,\n",
    "    place_shop,\n",
    "    ADDR_CITY\n",
    "FROM\n",
    "    sm_clients\n",
    "\"\"\")\n",
    "Personality_df = pd.read_sql_query(Personality, cnx)\n",
    "Personality_df.to_csv('dataset/Personality.csv', index = False)"
   ]
  },
  {
   "cell_type": "code",
   "execution_count": 8,
   "metadata": {
    "collapsed": true
   },
   "outputs": [],
   "source": [
    "#Geographically related\n",
    "\n",
    "avgVisitors = (\"\"\"\n",
    "SELECT \n",
    "    sm_clients.client_reg_code, t2.AverageVisitors\n",
    "FROM\n",
    "    sm_clients\n",
    "        LEFT JOIN\n",
    "    (SELECT \n",
    "        sm_shops_visitors.shop,\n",
    "            AVG(sm_shops_visitors.visitors) AS AverageVisitors\n",
    "    FROM\n",
    "        sm_shops_visitors\n",
    "    GROUP BY sm_shops_visitors.shop) t2 ON sm_clients.place_shop = t2.shop\n",
    "\"\"\")\n",
    "\n",
    "registerSQT_registerSQTtrade = (\"\"\"\n",
    "SELECT \n",
    "    sm_clients.client_reg_code,\n",
    "    t2.RegisterSQT,\n",
    "    t2.Register_SQT_trade\n",
    "FROM\n",
    "    sm_clients\n",
    "        LEFT JOIN\n",
    "    (SELECT \n",
    "        sm_shops_sprav.shop,\n",
    "            sm_shops_sprav.SQT AS RegisterSQT,\n",
    "            sm_shops_sprav.SQT_trade AS Register_SQT_trade\n",
    "    FROM\n",
    "        sm_shops_sprav) t2 ON sm_clients.place_shop = t2.shop\n",
    "\"\"\")\n",
    "\n",
    "avgVisitors_df = pd.read_sql_query(avgVisitors, cnx)\n",
    "registerSQT_registerSQTtrade_df = pd.read_sql_query(registerSQT_registerSQTtrade, cnx)\n",
    "\n",
    "Geographical_df = avgVisitors_df\\\n",
    ".merge(registerSQT_registerSQTtrade_df, how = 'left', on='client_reg_code')\n",
    "\n",
    "Geographical_df.to_csv('dataset/Geographical.csv', index = False)"
   ]
  },
  {
   "cell_type": "code",
   "execution_count": 35,
   "metadata": {
    "collapsed": false
   },
   "outputs": [
    {
     "data": {
      "text/plain": [
       "client_reg_code            0\n",
       "AverageVisitors       150168\n",
       "RegisterSQT            66259\n",
       "Register_SQT_trade     66259\n",
       "dtype: int64"
      ]
     },
     "execution_count": 35,
     "metadata": {},
     "output_type": "execute_result"
    }
   ],
   "source": [
    "Geographical_df.isnull().sum()"
   ]
  },
  {
   "cell_type": "code",
   "execution_count": 15,
   "metadata": {
    "collapsed": false
   },
   "outputs": [],
   "source": [
    "#Consumption Record Overall\n",
    "\n",
    "OverallAmount = (\"\"\"\n",
    "SELECT \n",
    "    sm_checks.client_reg_code,\n",
    "    SUM(sm_checks.`SUMMA_FULL`) AS OrginalPrice_in_total,\n",
    "    SUM(sm_checks.`SUMMA_MONEY`) AS PayAmount_in_total,\n",
    "    SUM(sm_checks.`SUMMA_BONUS`) AS UsedBonus_in_total,\n",
    "    SUM(sm_checks.`SUMMA_DISCOUNT`) AS DiscountAmount_in_total,\n",
    "    COUNT(sm_checks.`CHECK_LIST_CODE`) AS Product_Count,\n",
    "    COUNT(sm_checks.`quantity`) AS Quantity_Count\n",
    "FROM\n",
    "    sm_checks\n",
    "GROUP BY sm_checks.client_reg_code\n",
    "\"\"\")\n",
    "\n",
    "OverallAmount_AfterDec13 = (\"\"\"\n",
    "SELECT \n",
    "    sm_checks.client_reg_code,\n",
    "    ifnull(SUM(sm_checks.`SUMMA_FULL`), 0) AS OrginalPrice_in_total_AfterDec13,\n",
    "    ifnull(SUM(sm_checks.`SUMMA_MONEY`), 0) AS PayAmount_in_total_AfterDec13,\n",
    "    ifnull(SUM(sm_checks.`SUMMA_BONUS`), 0) AS UsedBonus_in_total_AfterDec13,\n",
    "    ifnull(SUM(sm_checks.`SUMMA_DISCOUNT`), 0) AS DiscountAmount_in_total_AfterDec13,\n",
    "    ifnull(COUNT(sm_checks.`CHECK_LIST_CODE`), 0) AS Product_Count_AfterDec13,\n",
    "    ifnull(COUNT(sm_checks.`quantity`), 0) AS Quantity_Count_AfterDec13\n",
    "FROM\n",
    "    sm_checks\n",
    "WHERE\n",
    "    sm_checks.CHECK_DAT > '2013-12-01'\n",
    "GROUP BY sm_checks.client_reg_code\n",
    "\"\"\")\n",
    "\n",
    "OverallAmount_AfterJun14 = (\"\"\"\n",
    "SELECT \n",
    "    sm_checks.client_reg_code,\n",
    "    ifnull(SUM(sm_checks.`SUMMA_FULL`), 0) AS OrginalPrice_in_total_AfterJun14,\n",
    "    ifnull(SUM(sm_checks.`SUMMA_MONEY`), 0) AS PayAmount_in_total_AfterJun14,\n",
    "    ifnull(SUM(sm_checks.`SUMMA_BONUS`), 0) AS UsedBonus_in_total_AfterJun14,\n",
    "    ifnull(SUM(sm_checks.`SUMMA_DISCOUNT`), 0) AS DiscountAmount_in_total_AfterJun14,\n",
    "    ifnull(COUNT(sm_checks.`CHECK_LIST_CODE`), 0) AS Product_Count_AfterJun14,\n",
    "    ifnull(COUNT(sm_checks.`quantity`), 0) AS Quantity_Count_AfterJun14\n",
    "FROM\n",
    "    sm_checks\n",
    "WHERE\n",
    "    sm_checks.CHECK_DAT > '2014-06-01'\n",
    "GROUP BY sm_checks.client_reg_code\n",
    "\"\"\")\n",
    "\n",
    "OverallAmount_df = pd.read_sql_query(OverallAmount, cnx)\n",
    "OverallAmount_Dec13_df = pd.read_sql_query(OverallAmount_AfterDec13, cnx)\n",
    "OverallAmount_Jun14_df = pd.read_sql_query(OverallAmount_AfterJun14, cnx)\n",
    "\n",
    "Consumption_df = LeftjoinUser_df\\\n",
    ".merge(OverallAmount_df, how = 'left', on='client_reg_code')\\\n",
    ".merge(OverallAmount_Dec13_df, how = 'left', on='client_reg_code')\\\n",
    ".merge(OverallAmount_Jun14_df, how = 'left', on='client_reg_code')\n",
    "\n",
    "Consumption_df.to_csv('dataset/Consumption.csv', index = False)"
   ]
  },
  {
   "cell_type": "code",
   "execution_count": 51,
   "metadata": {
    "collapsed": false
   },
   "outputs": [
    {
     "data": {
      "text/plain": [
       "(4452055, 19)"
      ]
     },
     "execution_count": 51,
     "metadata": {},
     "output_type": "execute_result"
    }
   ],
   "source": [
    "Consumption_df.shape"
   ]
  },
  {
   "cell_type": "code",
   "execution_count": 57,
   "metadata": {
    "collapsed": false
   },
   "outputs": [
    {
     "data": {
      "text/plain": [
       "client_reg_code                             0\n",
       "OrginalPrice_in_total                 1390740\n",
       "PayAmount_in_total                    1390740\n",
       "UsedBonus_in_total                    1390740\n",
       "DiscountAmount_in_total               1390740\n",
       "Product_Count                         1390740\n",
       "Quantity_Count                        1390740\n",
       "OrginalPrice_in_total_AfterDec13      1431425\n",
       "PayAmount_in_total_AfterDec13         1431425\n",
       "UsedBonus_in_total_AfterDec13         1431425\n",
       "DiscountAmount_in_total_AfterDec13    1431425\n",
       "Product_Count_AfterDec13              1431425\n",
       "Quantity_Count_AfterDec13             1431425\n",
       "OrginalPrice_in_total_AfterJun14      1758717\n",
       "PayAmount_in_total_AfterJun14         1758717\n",
       "UsedBonus_in_total_AfterJun14         1758717\n",
       "DiscountAmount_in_total_AfterJun14    1758717\n",
       "Product_Count_AfterJun14              1758717\n",
       "Quantity_Count_AfterJun14             1758717\n",
       "dtype: int64"
      ]
     },
     "execution_count": 57,
     "metadata": {},
     "output_type": "execute_result"
    }
   ],
   "source": [
    "Consumption_df.isnull().sum()"
   ]
  },
  {
   "cell_type": "code",
   "execution_count": 30,
   "metadata": {
    "collapsed": false
   },
   "outputs": [],
   "source": [
    "#Consumption segmentation\n",
    "\n",
    "SUMMA_full_Over_1000 = (\"\"\"\n",
    "SELECT \n",
    "    sm_checks.client_reg_code,\n",
    "    ifnull(COUNT(sm_checks.`SUMMA_full`), 0) AS SUMMA_full_Over_1000\n",
    "FROM\n",
    "    sm_checks\n",
    "WHERE\n",
    "    sm_checks.`SUMMA_full` > 1000\n",
    "GROUP BY sm_checks.client_reg_code\n",
    "\"\"\")\n",
    "\n",
    "SUMMA_full_500_1000 = (\"\"\"\n",
    "SELECT \n",
    "    sm_checks.client_reg_code,\n",
    "    COUNT(sm_checks.`SUMMA_full`) AS SUMMA_full_500_1000\n",
    "FROM\n",
    "    sm_checks\n",
    "WHERE\n",
    "    (sm_checks.`SUMMA_full` > 500 and sm_checks.`SUMMA_full` < 1000)\n",
    "GROUP BY sm_checks.client_reg_code\n",
    "\"\"\")\n",
    "\n",
    "SUMMA_full_500 = (\"\"\"\n",
    "SELECT \n",
    "    sm_checks.client_reg_code,\n",
    "    COUNT(sm_checks.`SUMMA_full`) AS SUMMA_full_500\n",
    "FROM\n",
    "    sm_checks\n",
    "WHERE\n",
    "    (sm_checks.`SUMMA_full` <= 500)\n",
    "GROUP BY sm_checks.client_reg_code\n",
    "\"\"\")\n",
    "\n",
    "PurchasingMorethan500RubwithoutBonus = (\"\"\"\n",
    "SELECT \n",
    "    sm_checks.client_reg_code,\n",
    "    COUNT(sm_checks.`SUMMA_full`) AS PurchasingMorethan500RubwithoutBonus\n",
    "FROM\n",
    "    sm_checks\n",
    "WHERE\n",
    "    (sm_checks.`SUMMA_bonus` = 0 and sm_checks.`SUMMA_full` >= 500)\n",
    "GROUP BY sm_checks.client_reg_code\n",
    "\"\"\")\n",
    "\n",
    "PurchasingMorethan1000RubwithoutBonus = (\"\"\"\n",
    "SELECT \n",
    "    sm_checks.client_reg_code,\n",
    "    COUNT(sm_checks.`SUMMA_full`) AS PurchasingMorethan1000RubwithoutBonus\n",
    "FROM\n",
    "    sm_checks\n",
    "WHERE\n",
    "    (sm_checks.`SUMMA_bonus` = 0 and sm_checks.`SUMMA_full` >= 1000)\n",
    "GROUP BY sm_checks.client_reg_code\n",
    "\"\"\")\n",
    "\n",
    "PurchasingMorethan1500RubwithoutBonus = (\"\"\"\n",
    "SELECT \n",
    "    sm_checks.client_reg_code,\n",
    "    COUNT(sm_checks.`SUMMA_full`) AS PurchasingMorethan1500RubwithoutBonus\n",
    "FROM\n",
    "    sm_checks\n",
    "WHERE\n",
    "    (sm_checks.`SUMMA_bonus` = 0 and sm_checks.`SUMMA_full` >= 1500)\n",
    "GROUP BY sm_checks.client_reg_code\n",
    "\"\"\")\n",
    "\n",
    "PurchasingMorethan500RubwithoutDiscount = (\"\"\"\n",
    "SELECT \n",
    "    sm_checks.client_reg_code,\n",
    "    COUNT(sm_checks.`SUMMA_full`) AS PurchasingMorethan500RubwithoutDiscount\n",
    "FROM\n",
    "    sm_checks\n",
    "WHERE\n",
    "    (sm_checks.`SUMMA_discount` = 0 and sm_checks.`SUMMA_full` >= 500)\n",
    "GROUP BY sm_checks.client_reg_code\n",
    "\"\"\")\n",
    "\n",
    "PurchasingMorethan1000RubwithoutDiscount = (\"\"\"\n",
    "SELECT \n",
    "    sm_checks.client_reg_code,\n",
    "    COUNT(sm_checks.`SUMMA_full`) AS PurchasingMorethan1000RubwithoutDiscount\n",
    "FROM\n",
    "    sm_checks\n",
    "WHERE\n",
    "    (sm_checks.`SUMMA_discount` = 0 and sm_checks.`SUMMA_full` >= 1000)\n",
    "GROUP BY sm_checks.client_reg_code\n",
    "\"\"\")\n",
    "\n",
    "PurchasingMorethan1500RubwithoutDiscount = (\"\"\"\n",
    "SELECT \n",
    "    sm_checks.client_reg_code,\n",
    "    COUNT(sm_checks.`SUMMA_full`) AS PurchasingMorethan1500RubwithoutDiscount\n",
    "FROM\n",
    "    sm_checks\n",
    "WHERE\n",
    "    (sm_checks.`SUMMA_discount` = 0 and sm_checks.`SUMMA_full` >= 1500)\n",
    "GROUP BY sm_checks.client_reg_code\n",
    "\"\"\")\n",
    "\n",
    "\n",
    "SUMMA_full_Over_1000_df = pd.read_sql_query(SUMMA_full_Over_1000, cnx)\n",
    "SUMMA_full_500_1000_df = pd.read_sql_query(SUMMA_full_500_1000, cnx)\n",
    "SUMMA_full_500_df = pd.read_sql_query(SUMMA_full_500, cnx)\n",
    "\n",
    "PurchasingMorethan500RubwithoutBonus_df = pd.read_sql_query(PurchasingMorethan500RubwithoutBonus, cnx)\n",
    "PurchasingMorethan1000RubwithoutBonus_df = pd.read_sql_query(PurchasingMorethan1000RubwithoutBonus, cnx)\n",
    "PurchasingMorethan1500RubwithoutBonus_df = pd.read_sql_query(PurchasingMorethan1500RubwithoutBonus, cnx)\n",
    "\n",
    "PurchasingMorethan500RubwithoutDiscount_df = pd.read_sql_query(PurchasingMorethan500RubwithoutDiscount, cnx)\n",
    "PurchasingMorethan1000RubwithoutDiscount_df = pd.read_sql_query(PurchasingMorethan1000RubwithoutDiscount, cnx)\n",
    "PurchasingMorethan1500RubwithoutDiscount_df = pd.read_sql_query(PurchasingMorethan1500RubwithoutDiscount, cnx)\n",
    "\n",
    "Consumption_Interval_df = LeftjoinUser_df\\\n",
    ".merge(SUMMA_full_Over_1000_df, how = 'left', on='client_reg_code')\\\n",
    ".merge(SUMMA_full_500_1000_df, how = 'left', on='client_reg_code')\\\n",
    ".merge(SUMMA_full_500_df, how = 'left', on='client_reg_code')\\\n",
    ".merge(PurchasingMorethan500RubwithoutBonus_df, how = 'left', on='client_reg_code')\\\n",
    ".merge(PurchasingMorethan1000RubwithoutBonus_df, how = 'left', on='client_reg_code')\\\n",
    ".merge(PurchasingMorethan1500RubwithoutBonus_df, how = 'left', on='client_reg_code')\\\n",
    ".merge(PurchasingMorethan500RubwithoutDiscount_df, how = 'left', on='client_reg_code')\\\n",
    ".merge(PurchasingMorethan1000RubwithoutDiscount_df, how = 'left', on='client_reg_code')\\\n",
    ".merge(PurchasingMorethan1500RubwithoutDiscount_df, how = 'left', on='client_reg_code')\n",
    "\n",
    "Consumption_Interval_df.to_csv('dataset/Consumption_Interval_withifnull.csv', index = False)\n"
   ]
  },
  {
   "cell_type": "code",
   "execution_count": 146,
   "metadata": {
    "collapsed": false
   },
   "outputs": [
    {
     "data": {
      "text/plain": [
       "(4452055, 10)"
      ]
     },
     "execution_count": 146,
     "metadata": {},
     "output_type": "execute_result"
    }
   ],
   "source": [
    "# withleftjoin\n",
    "Consumption_Interval_df.shape"
   ]
  },
  {
   "cell_type": "code",
   "execution_count": 54,
   "metadata": {
    "collapsed": false
   },
   "outputs": [
    {
     "data": {
      "text/plain": [
       "client_reg_code                                   0\n",
       "SUMMA_full_Over_1000                        2155800\n",
       "SUMMA_full_500_1000                         2478875\n",
       "SUMMA_full_500                              1839301\n",
       "PurchasingMorethan500RubwithoutBonus        1904753\n",
       "PurchasingMorethan1000RubwithoutBonus       2438192\n",
       "PurchasingMorethan1500RubwithoutBonus       2772270\n",
       "PurchasingMorethan500RubwithoutDiscount     2123286\n",
       "PurchasingMorethan1000RubwithoutDiscount    2695763\n",
       "PurchasingMorethan1500RubwithoutDiscount    3014695\n",
       "dtype: int64"
      ]
     },
     "execution_count": 54,
     "metadata": {},
     "output_type": "execute_result"
    }
   ],
   "source": [
    "Consumption_Interval_df.isnull().sum()"
   ]
  },
  {
   "cell_type": "code",
   "execution_count": 58,
   "metadata": {
    "collapsed": true
   },
   "outputs": [],
   "source": [
    "LeftjoinUser = (\"\"\"\n",
    "SELECT \n",
    "    sm_clients.client_reg_code\n",
    "FROM\n",
    "    sm_clients\n",
    "\"\"\")\n",
    "\n",
    "LeftjoinUser_df = pd.read_sql_query(LeftjoinUser, cnx)"
   ]
  },
  {
   "cell_type": "code",
   "execution_count": 179,
   "metadata": {
    "collapsed": false
   },
   "outputs": [],
   "source": [
    "PurchaseRecordOnDay = (\"\"\"\n",
    "SELECT \n",
    "    client_reg_code,\n",
    "    COUNT(CASE WHEN WEEKDAY(CHECK_DAT) = 0 THEN 1 ELSE NULL END) AS PurchaseOnMonday,\n",
    "    COUNT(CASE WHEN WEEKDAY(CHECK_DAT) = 1 THEN 1 ELSE NULL END) AS PurchaseOnTuesday,\n",
    "    COUNT(CASE WHEN WEEKDAY(CHECK_DAT) = 2 THEN 1 ELSE NULL END) AS PurchaseOnWednesday,\n",
    "    COUNT(CASE WHEN WEEKDAY(CHECK_DAT) = 3 THEN 1 ELSE NULL END) AS PurchaseOnThursday,\n",
    "    COUNT(CASE WHEN WEEKDAY(CHECK_DAT) = 4 THEN 1 ELSE NULL END) AS PurchaseOnFriday,\n",
    "    COUNT(CASE WHEN WEEKDAY(CHECK_DAT) = 5 THEN 1 ELSE NULL END) AS PurchaseOnSaturday,\n",
    "    COUNT(CASE WHEN WEEKDAY(CHECK_DAT) = 6 THEN 1 ELSE NULL END) AS PurchaseOnSunday,\n",
    "    COUNT(CASE WHEN (WEEKDAY(CHECK_DAT) = 0 or WEEKDAY(CHECK_DAT) = 1 or WEEKDAY(CHECK_DAT) = 2 or WEEKDAY(CHECK_DAT) = 3 or WEEKDAY(CHECK_DAT) = 4) THEN 1 ELSE NULL END) AS PurchaseOnWeekdays,\n",
    "    COUNT(CASE WHEN (WEEKDAY(CHECK_DAT) = 5 or WEEKDAY(CHECK_DAT) = 6) THEN 1 ELSE NULL END) AS PurchaseOnWeekend,\n",
    "    COUNT(CASE WHEN (time(CHECK_DAT) >= '04:00:00' and time(CHECK_DAT) < '07:00:00') THEN 1 ELSE NULL END) AS PurchaseOnDawn,\n",
    "    COUNT(CASE WHEN (time(CHECK_DAT) >= '07:00:00' and time(CHECK_DAT) < '11:00:00') THEN 1 ELSE NULL END) AS PurchaseOnAMPeak,\n",
    "    COUNT(CASE WHEN (time(CHECK_DAT) >= '11:00:00' and time(CHECK_DAT) < '18:00:00') THEN 1 ELSE NULL END) AS PurchaseOnMidDay,\n",
    "    COUNT(CASE WHEN (time(CHECK_DAT) >='18:00:00' and time(CHECK_DAT) < '21:00:00') THEN 1 ELSE NULL END) AS PurchaseOnPMPeak,\n",
    "    COUNT(CASE WHEN (time(CHECK_DAT) >= '21:00:00' or time(CHECK_DAT) < '04:00:00') THEN 1 ELSE NULL END) AS PurchaseOnEvening\n",
    "FROM\n",
    "    SportMaster.sm_checks\n",
    "GROUP BY client_reg_code\n",
    "\"\"\")\n",
    "\n",
    "PurchaseRecordOnDay_df = pd.read_sql_query(PurchaseRecordOnDay, cnx)\n",
    "PurchaseRecordOnDay_df.to_csv('dataset/PurchaseRecordOnDay.csv', index = False)"
   ]
  },
  {
   "cell_type": "code",
   "execution_count": 181,
   "metadata": {
    "collapsed": false
   },
   "outputs": [
    {
     "data": {
      "text/html": [
       "<div>\n",
       "<table border=\"1\" class=\"dataframe\">\n",
       "  <thead>\n",
       "    <tr style=\"text-align: right;\">\n",
       "      <th></th>\n",
       "      <th>client_reg_code</th>\n",
       "      <th>PurchaseOnMonday</th>\n",
       "      <th>PurchaseOnTuesday</th>\n",
       "      <th>PurchaseOnWednesday</th>\n",
       "      <th>PurchaseOnThursday</th>\n",
       "      <th>PurchaseOnFriday</th>\n",
       "      <th>PurchaseOnSaturday</th>\n",
       "      <th>PurchaseOnSunday</th>\n",
       "      <th>PurchaseOnWeekdays</th>\n",
       "      <th>PurchaseOnWeekend</th>\n",
       "      <th>PurchaseOnDawn</th>\n",
       "      <th>PurchaseOnAMPeak</th>\n",
       "      <th>PurchaseOnMidDay</th>\n",
       "      <th>PurchaseOnPMPeak</th>\n",
       "      <th>PurchaseOnEvening</th>\n",
       "    </tr>\n",
       "  </thead>\n",
       "  <tbody>\n",
       "    <tr>\n",
       "      <th>0</th>\n",
       "      <td>121000000000074432</td>\n",
       "      <td>0</td>\n",
       "      <td>7</td>\n",
       "      <td>0</td>\n",
       "      <td>0</td>\n",
       "      <td>0</td>\n",
       "      <td>0</td>\n",
       "      <td>0</td>\n",
       "      <td>7</td>\n",
       "      <td>0</td>\n",
       "      <td>0</td>\n",
       "      <td>0</td>\n",
       "      <td>0</td>\n",
       "      <td>0</td>\n",
       "      <td>7</td>\n",
       "    </tr>\n",
       "    <tr>\n",
       "      <th>1</th>\n",
       "      <td>121000000000093516</td>\n",
       "      <td>0</td>\n",
       "      <td>0</td>\n",
       "      <td>0</td>\n",
       "      <td>1</td>\n",
       "      <td>0</td>\n",
       "      <td>0</td>\n",
       "      <td>2</td>\n",
       "      <td>1</td>\n",
       "      <td>2</td>\n",
       "      <td>0</td>\n",
       "      <td>0</td>\n",
       "      <td>2</td>\n",
       "      <td>0</td>\n",
       "      <td>1</td>\n",
       "    </tr>\n",
       "    <tr>\n",
       "      <th>2</th>\n",
       "      <td>121000000000096110</td>\n",
       "      <td>2</td>\n",
       "      <td>0</td>\n",
       "      <td>1</td>\n",
       "      <td>3</td>\n",
       "      <td>2</td>\n",
       "      <td>1</td>\n",
       "      <td>3</td>\n",
       "      <td>8</td>\n",
       "      <td>4</td>\n",
       "      <td>0</td>\n",
       "      <td>0</td>\n",
       "      <td>3</td>\n",
       "      <td>2</td>\n",
       "      <td>7</td>\n",
       "    </tr>\n",
       "    <tr>\n",
       "      <th>3</th>\n",
       "      <td>121000000000106707</td>\n",
       "      <td>0</td>\n",
       "      <td>2</td>\n",
       "      <td>0</td>\n",
       "      <td>0</td>\n",
       "      <td>0</td>\n",
       "      <td>0</td>\n",
       "      <td>0</td>\n",
       "      <td>2</td>\n",
       "      <td>0</td>\n",
       "      <td>0</td>\n",
       "      <td>0</td>\n",
       "      <td>2</td>\n",
       "      <td>0</td>\n",
       "      <td>0</td>\n",
       "    </tr>\n",
       "    <tr>\n",
       "      <th>4</th>\n",
       "      <td>121000000000109529</td>\n",
       "      <td>3</td>\n",
       "      <td>0</td>\n",
       "      <td>2</td>\n",
       "      <td>0</td>\n",
       "      <td>0</td>\n",
       "      <td>0</td>\n",
       "      <td>3</td>\n",
       "      <td>5</td>\n",
       "      <td>3</td>\n",
       "      <td>0</td>\n",
       "      <td>0</td>\n",
       "      <td>2</td>\n",
       "      <td>3</td>\n",
       "      <td>3</td>\n",
       "    </tr>\n",
       "  </tbody>\n",
       "</table>\n",
       "</div>"
      ],
      "text/plain": [
       "      client_reg_code  PurchaseOnMonday  PurchaseOnTuesday  \\\n",
       "0  121000000000074432                 0                  7   \n",
       "1  121000000000093516                 0                  0   \n",
       "2  121000000000096110                 2                  0   \n",
       "3  121000000000106707                 0                  2   \n",
       "4  121000000000109529                 3                  0   \n",
       "\n",
       "   PurchaseOnWednesday  PurchaseOnThursday  PurchaseOnFriday  \\\n",
       "0                    0                   0                 0   \n",
       "1                    0                   1                 0   \n",
       "2                    1                   3                 2   \n",
       "3                    0                   0                 0   \n",
       "4                    2                   0                 0   \n",
       "\n",
       "   PurchaseOnSaturday  PurchaseOnSunday  PurchaseOnWeekdays  \\\n",
       "0                   0                 0                   7   \n",
       "1                   0                 2                   1   \n",
       "2                   1                 3                   8   \n",
       "3                   0                 0                   2   \n",
       "4                   0                 3                   5   \n",
       "\n",
       "   PurchaseOnWeekend  PurchaseOnDawn  PurchaseOnAMPeak  PurchaseOnMidDay  \\\n",
       "0                  0               0                 0                 0   \n",
       "1                  2               0                 0                 2   \n",
       "2                  4               0                 0                 3   \n",
       "3                  0               0                 0                 2   \n",
       "4                  3               0                 0                 2   \n",
       "\n",
       "   PurchaseOnPMPeak  PurchaseOnEvening  \n",
       "0                 0                  7  \n",
       "1                 0                  1  \n",
       "2                 2                  7  \n",
       "3                 0                  0  \n",
       "4                 3                  3  "
      ]
     },
     "execution_count": 181,
     "metadata": {},
     "output_type": "execute_result"
    }
   ],
   "source": [
    "PurchaseRecordOnDay_df.head()"
   ]
  },
  {
   "cell_type": "code",
   "execution_count": 206,
   "metadata": {
    "collapsed": false
   },
   "outputs": [],
   "source": [
    "#MergeAll\n",
    "\n",
    "MergeAllDataset_df = Personality_df\\\n",
    ".merge(Geographical_df, how = 'left', on='client_reg_code')\\\n",
    ".merge(Consumption_df, how = 'left', on='client_reg_code')\\\n",
    ".merge(Consumption_Interval_df, how = 'left', on='client_reg_code')\\\n",
    ".merge(PurchaseRecordOnDay_df, how = 'left', on='client_reg_code')\n",
    "\n",
    "MergeAllDataset_df.to_csv('dataset/OriginalDataset.csv', index = False)\n"
   ]
  },
  {
   "cell_type": "code",
   "execution_count": 4,
   "metadata": {
    "collapsed": false
   },
   "outputs": [],
   "source": [
    "MergeAllDataset_df = pd.read_csv('dataset/OriginalDataset.csv')"
   ]
  },
  {
   "cell_type": "code",
   "execution_count": 5,
   "metadata": {
    "collapsed": false
   },
   "outputs": [
    {
     "data": {
      "text/plain": [
       "(4452055, 51)"
      ]
     },
     "execution_count": 5,
     "metadata": {},
     "output_type": "execute_result"
    }
   ],
   "source": [
    "MergeAllDataset_df.shape"
   ]
  },
  {
   "cell_type": "code",
   "execution_count": 7,
   "metadata": {
    "collapsed": false
   },
   "outputs": [
    {
     "data": {
      "text/plain": [
       "client_reg_code                             0\n",
       "age                                         0\n",
       "sex                                         0\n",
       "ismobile                                    0\n",
       "isemail                                     0\n",
       "place_shop                                  0\n",
       "ADDR_CITY                                   0\n",
       "AverageVisitors                             0\n",
       "RegisterSQT                                 0\n",
       "Register_SQT_trade                          0\n",
       "OrginalPrice_in_total                       0\n",
       "PayAmount_in_total                          0\n",
       "UsedBonus_in_total                          0\n",
       "DiscountAmount_in_total                     0\n",
       "Product_Count                               0\n",
       "Quantity_Count                              0\n",
       "OrginalPrice_in_total_AfterDec13            0\n",
       "PayAmount_in_total_AfterDec13               0\n",
       "UsedBonus_in_total_AfterDec13               0\n",
       "DiscountAmount_in_total_AfterDec13          0\n",
       "Product_Count_AfterDec13                    0\n",
       "Quantity_Count_AfterDec13                   0\n",
       "OrginalPrice_in_total_AfterJun14            0\n",
       "PayAmount_in_total_AfterJun14               0\n",
       "UsedBonus_in_total_AfterJun14               0\n",
       "DiscountAmount_in_total_AfterJun14          0\n",
       "Product_Count_AfterJun14                    0\n",
       "Quantity_Count_AfterJun14                   0\n",
       "SUMMA_full_Over_1000                        0\n",
       "SUMMA_full_500_1000                         0\n",
       "SUMMA_full_500                              0\n",
       "PurchasingMorethan500RubwithoutBonus        0\n",
       "PurchasingMorethan1000RubwithoutBonus       0\n",
       "PurchasingMorethan1500RubwithoutBonus       0\n",
       "PurchasingMorethan500RubwithoutDiscount     0\n",
       "PurchasingMorethan1000RubwithoutDiscount    0\n",
       "PurchasingMorethan1500RubwithoutDiscount    0\n",
       "PurchaseOnMonday                            0\n",
       "PurchaseOnTuesday                           0\n",
       "PurchaseOnWednesday                         0\n",
       "PurchaseOnThursday                          0\n",
       "PurchaseOnFriday                            0\n",
       "PurchaseOnSaturday                          0\n",
       "PurchaseOnSunday                            0\n",
       "PurchaseOnWeekdays                          0\n",
       "PurchaseOnWeekend                           0\n",
       "PurchaseOnDawn                              0\n",
       "PurchaseOnAMPeak                            0\n",
       "PurchaseOnMidDay                            0\n",
       "PurchaseOnPMPeak                            0\n",
       "PurchaseOnEvening                           0\n",
       "dtype: int64"
      ]
     },
     "execution_count": 7,
     "metadata": {},
     "output_type": "execute_result"
    }
   ],
   "source": [
    "MergeAllDataset_df.isnull().sum()"
   ]
  },
  {
   "cell_type": "code",
   "execution_count": 6,
   "metadata": {
    "collapsed": false
   },
   "outputs": [],
   "source": [
    "MergeAllDataset_df.loc[:,'age':'PurchaseOnEvening'] = MergeAllDataset_df.loc[:,'age':'PurchaseOnEvening'].fillna(0)"
   ]
  },
  {
   "cell_type": "code",
   "execution_count": 8,
   "metadata": {
    "collapsed": false
   },
   "outputs": [],
   "source": [
    "MergeAllDataset_df = MergeAllDataset_df.drop(\"ADDR_CITY\",1)"
   ]
  },
  {
   "cell_type": "code",
   "execution_count": 22,
   "metadata": {
    "collapsed": false
   },
   "outputs": [
    {
     "name": "stderr",
     "output_type": "stream",
     "text": [
      "/home/jake/anaconda3/lib/python3.5/site-packages/sklearn/preprocessing/data.py:160: UserWarning: Numerical issues were encountered when centering the data and might not be solved. Dataset may contain too large values. You may need to prescale your features.\n",
      "  warnings.warn(\"Numerical issues were encountered \"\n"
     ]
    },
    {
     "data": {
      "image/png": "[encoded data removed]",
      "text/plain": [
       "<matplotlib.figure.Figure at 0x7feac03e2630>"
      ]
     },
     "metadata": {},
     "output_type": "display_data"
    }
   ],
   "source": [
    "%matplotlib inline\n",
    "from sklearn.cluster import KMeans\n",
    "from scipy.spatial.distance import cdist\n",
    "from sklearn import preprocessing\n",
    "MergeAllDataset_df_scaled = preprocessing.scale(MergeAllDataset_df)\n",
    "X = MergeAllDataset_df_scaled\n",
    "K = range(1, 11)\n",
    "meandistortions = []\n",
    "for k in K:\n",
    "    kmeans = KMeans(n_clusters = k)\n",
    "    kmeans.fit(X)\n",
    "    meandistortions.append(sum(np.min(cdist(X, kmeans.cluster_centers_, 'euclidean'), axis=1)) / X.shape[0])\n",
    "plt.figure()\n",
    "plt.plot(K, meandistortions, 'bx-')\n",
    "plt.xlabel('k')\n",
    "plt.ylabel('averge of squares')\n",
    "plt.title('What is the K value');"
   ]
  },
  {
   "cell_type": "code",
   "execution_count": 9,
   "metadata": {
    "collapsed": false,
    "scrolled": true
   },
   "outputs": [
    {
     "name": "stderr",
     "output_type": "stream",
     "text": [
      "/home/jake/anaconda3/lib/python3.5/site-packages/sklearn/preprocessing/data.py:160: UserWarning: Numerical issues were encountered when centering the data and might not be solved. Dataset may contain too large values. You may need to prescale your features.\n",
      "  warnings.warn(\"Numerical issues were encountered \"\n"
     ]
    }
   ],
   "source": [
    "from sklearn.cluster import KMeans\n",
    "from sklearn import preprocessing\n",
    "MergeAllDataset_df_scaled = preprocessing.scale(MergeAllDataset_df)\n",
    "k_means = KMeans(n_clusters = 5)\n",
    "y_pred = k_means.fit_predict(MergeAllDataset_df_scaled)"
   ]
  },
  {
   "cell_type": "code",
   "execution_count": 47,
   "metadata": {
    "collapsed": true
   },
   "outputs": [],
   "source": [
    "pd.set_option('display.float_format', '{:.20g}'.format)"
   ]
  },
  {
   "cell_type": "code",
   "execution_count": 53,
   "metadata": {
    "collapsed": false
   },
   "outputs": [
    {
     "name": "stdout",
     "output_type": "stream",
     "text": [
      "cluster0\n",
      "2536203\n",
      "client_reg_code                                   698205595859805696\n",
      "age                                            32.978533264095972299\n",
      "sex                                           0.43427123144322438142\n",
      "ismobile                                      0.74485480854647678761\n",
      "isemail                                      0.060691514046785688397\n",
      "place_shop                                     2507.3405228209257984\n",
      "AverageVisitors                                1419.4858558619321229\n",
      "RegisterSQT                                    1504.8764753074790406\n",
      "Register_SQT_trade                              1246.322969225280076\n",
      "OrginalPrice_in_total                           2401.749160536447107\n",
      "PayAmount_in_total                             1909.3526258189951932\n",
      "UsedBonus_in_total                             90.274943685501511936\n",
      "DiscountAmount_in_total                        402.12159103194886711\n",
      "Product_Count                                  2.3832800450121696123\n",
      "Quantity_Count                                 2.3832800450121696123\n",
      "OrginalPrice_in_total_AfterDec13               2312.9238273947366906\n",
      "PayAmount_in_total_AfterDec13                  1831.4323874350795904\n",
      "UsedBonus_in_total_AfterDec13                   86.15888120943000672\n",
      "DiscountAmount_in_total_AfterDec13             395.33255875022695136\n",
      "Product_Count_AfterDec13                       2.2989346672959536377\n",
      "Quantity_Count_AfterDec13                      2.2989346672959536377\n",
      "OrginalPrice_in_total_AfterJun14               1768.6732592856280917\n",
      "PayAmount_in_total_AfterJun14                  1390.8489958966235918\n",
      "UsedBonus_in_total_AfterJun14                  63.404063475991470966\n",
      "DiscountAmount_in_total_AfterJun14             314.42019991302089466\n",
      "Product_Count_AfterJun14                       1.7330986518035031985\n",
      "Quantity_Count_AfterJun14                      1.7330986518035031985\n",
      "SUMMA_full_Over_1000                          0.64376944590003248869\n",
      "SUMMA_full_500_1000                           0.49779059483803150821\n",
      "SUMMA_full_500                                   1.24170383837571352\n",
      "PurchasingMorethan500RubwithoutBonus          0.81154781379881657521\n",
      "PurchasingMorethan1000RubwithoutBonus         0.45234155152406962941\n",
      "PurchasingMorethan1500RubwithoutBonus         0.31748483855590425851\n",
      "PurchasingMorethan500RubwithoutDiscount       0.72773078495688237055\n",
      "PurchasingMorethan1000RubwithoutDiscount      0.35420429673807657389\n",
      "PurchasingMorethan1500RubwithoutDiscount      0.23131508006259751675\n",
      "PurchaseOnMonday                              0.28052998912153326305\n",
      "PurchaseOnTuesday                              0.2763800847171933861\n",
      "PurchaseOnWednesday                           0.27636194736777774938\n",
      "PurchaseOnThursday                            0.28679644334463760824\n",
      "PurchaseOnFriday                              0.31441568360261384907\n",
      "PurchaseOnSaturday                             0.4850250551710568736\n",
      "PurchaseOnSunday                              0.46377084168735704939\n",
      "PurchaseOnWeekdays                             1.4344841481537558003\n",
      "PurchaseOnWeekend                             0.94879589685841392299\n",
      "PurchaseOnDawn                             2.6023153509399681764e-05\n",
      "PurchaseOnAMPeak                             0.055105210426767886611\n",
      "PurchaseOnMidDay                               1.0566216505539973713\n",
      "PurchaseOnPMPeak                              0.34962461601062688743\n",
      "PurchaseOnEvening                             0.92190254486726808114\n",
      "dtype: float64\n",
      "cluster1\n",
      "26257\n",
      "client_reg_code                                  892317782077476096\n",
      "age                                           40.863122215028376161\n",
      "sex                                          0.34466999276383442075\n",
      "ismobile                                     0.92676238717294434633\n",
      "isemail                                      0.29336938721102945316\n",
      "place_shop                                    2149.3067753361010546\n",
      "AverageVisitors                               1454.9236871730429357\n",
      "RegisterSQT                                   2126.2211977757938257\n",
      "Register_SQT_trade                            1782.6093917812165728\n",
      "OrginalPrice_in_total                         138933.47745134602883\n",
      "PayAmount_in_total                            98528.764333320985315\n",
      "UsedBonus_in_total                            14157.071599954297199\n",
      "DiscountAmount_in_total                       26247.641518071530299\n",
      "Product_Count                                  93.24671516167117602\n",
      "Quantity_Count                                 93.24671516167117602\n",
      "OrginalPrice_in_total_AfterDec13              135811.60170202204608\n",
      "PayAmount_in_total_AfterDec13                 95911.302293483851827\n",
      "UsedBonus_in_total_AfterDec13                 13890.991240431123515\n",
      "DiscountAmount_in_total_AfterDec13            26009.308168107712845\n",
      "Product_Count_AfterDec13                       91.02433636744487444\n",
      "Quantity_Count_AfterDec13                      91.02433636744487444\n",
      "OrginalPrice_in_total_AfterJun14              111672.42484861156845\n",
      "PayAmount_in_total_AfterJun14                 78044.283882012197864\n",
      "UsedBonus_in_total_AfterJun14                 11724.965761511215533\n",
      "DiscountAmount_in_total_AfterJun14            21903.175205088282382\n",
      "Product_Count_AfterJun14                      72.208744334844041646\n",
      "Quantity_Count_AfterJun14                     72.208744334844041646\n",
      "SUMMA_full_Over_1000                          35.217884754541643133\n",
      "SUMMA_full_500_1000                           20.113798225235175465\n",
      "SUMMA_full_500                                37.911376014015310432\n",
      "PurchasingMorethan500RubwithoutBonus          14.810222036028488191\n",
      "PurchasingMorethan1000RubwithoutBonus         9.2596260044940397194\n",
      "PurchasingMorethan1500RubwithoutBonus         7.0180142438206951638\n",
      "PurchasingMorethan500RubwithoutDiscount       32.817153520965838709\n",
      "PurchasingMorethan1000RubwithoutDiscount       18.46848459458430014\n",
      "PurchasingMorethan1500RubwithoutDiscount      13.468675019994668318\n",
      "PurchaseOnMonday                              10.416193776897589629\n",
      "PurchaseOnTuesday                             9.5618692158281604065\n",
      "PurchaseOnWednesday                           9.5425600792169706921\n",
      "PurchaseOnThursday                             11.19545264120044159\n",
      "PurchaseOnFriday                              12.348592756217389166\n",
      "PurchaseOnSaturday                            20.394942301100659421\n",
      "PurchaseOnSunday                              19.787104391209961562\n",
      "PurchaseOnWeekdays                            53.064668469360547931\n",
      "PurchaseOnWeekend                             40.182046692310620983\n",
      "PurchaseOnDawn                             0.0077693567429637814745\n",
      "PurchaseOnAMPeak                              1.4605628975130442448\n",
      "PurchaseOnMidDay                              33.912823247134099347\n",
      "PurchaseOnPMPeak                              13.822295007045740434\n",
      "PurchaseOnEvening                             44.043264653235326023\n",
      "dtype: float64\n",
      "cluster2\n",
      "721012\n",
      "client_reg_code                                   720016926697276928\n",
      "age                                            37.675230093257809472\n",
      "sex                                           0.38906703355838739844\n",
      "ismobile                                      0.90285182493495252931\n",
      "isemail                                       0.13989226254209360945\n",
      "place_shop                                     2645.8395588422940818\n",
      "AverageVisitors                                1519.8247391638692534\n",
      "RegisterSQT                                    2096.6214290482394063\n",
      "Register_SQT_trade                             1773.9510722554564381\n",
      "OrginalPrice_in_total                           20372.62530386466824\n",
      "PayAmount_in_total                             15332.239265296615486\n",
      "UsedBonus_in_total                             1302.0094242536879392\n",
      "DiscountAmount_in_total                        3738.3766143142411238\n",
      "Product_Count                                  16.358220112841394212\n",
      "Quantity_Count                                 16.358220112841394212\n",
      "OrginalPrice_in_total_AfterDec13               19821.437361430980673\n",
      "PayAmount_in_total_AfterDec13                  14855.039488510697993\n",
      "UsedBonus_in_total_AfterDec13                  1268.8588872307257134\n",
      "DiscountAmount_in_total_AfterDec13             3697.5389856894762488\n",
      "Product_Count_AfterDec13                       15.917339794622003879\n",
      "Quantity_Count_AfterDec13                      15.917339794622003879\n",
      "OrginalPrice_in_total_AfterJun14               15800.056796696973834\n",
      "PayAmount_in_total_AfterJun14                  11736.001158094606581\n",
      "UsedBonus_in_total_AfterJun14                  1012.4021944156269228\n",
      "DiscountAmount_in_total_AfterJun14             3051.6534441867593159\n",
      "Product_Count_AfterJun14                       12.385599684887353078\n",
      "Quantity_Count_AfterJun14                      12.385599684887353078\n",
      "SUMMA_full_Over_1000                           5.3580495192867800824\n",
      "SUMMA_full_500_1000                            3.3968061557921367388\n",
      "SUMMA_full_500                                 7.6031550099027480627\n",
      "PurchasingMorethan500RubwithoutBonus           4.2286979967046320894\n",
      "PurchasingMorethan1000RubwithoutBonus          2.5715383377807858878\n",
      "PurchasingMorethan1500RubwithoutBonus          1.9228182055222382552\n",
      "PurchasingMorethan500RubwithoutDiscount        5.2868454339178825307\n",
      "PurchasingMorethan1000RubwithoutDiscount       2.8257019300649641735\n",
      "PurchasingMorethan1500RubwithoutDiscount       1.9913482715960344471\n",
      "PurchaseOnMonday                               1.8305395749307917797\n",
      "PurchaseOnTuesday                              1.7490957154665942586\n",
      "PurchaseOnWednesday                            1.7492663090212090538\n",
      "PurchaseOnThursday                             1.9046229466361170868\n",
      "PurchaseOnFriday                               2.1350962258603183308\n",
      "PurchaseOnSaturday                             3.5486177761257788887\n",
      "PurchaseOnSunday                               3.4409815648005857014\n",
      "PurchaseOnWeekdays                             9.3686207719150313977\n",
      "PurchaseOnWeekend                              6.9895993409263645901\n",
      "PurchaseOnDawn                             0.00032593077507725253363\n",
      "PurchaseOnAMPeak                              0.30977570414916810737\n",
      "PurchaseOnMidDay                               6.7704462616433565003\n",
      "PurchaseOnPMPeak                               2.4652266536479281456\n",
      "PurchaseOnEvening                              6.8124455626258644259\n",
      "dtype: float64\n",
      "cluster3\n",
      "969051\n",
      "client_reg_code                                   712915360199403008\n",
      "age                                            26.219195893714573486\n",
      "sex                                           0.35503188170694832682\n",
      "ismobile                                      0.58045654975847504886\n",
      "isemail                                      0.066300948040918378235\n",
      "place_shop                                     2145.0718135578003967\n",
      "AverageVisitors                                1836.4431645657466561\n",
      "RegisterSQT                                    4076.1264921616134416\n",
      "Register_SQT_trade                              3528.229753262919985\n",
      "OrginalPrice_in_total                          2402.7008252713198999\n",
      "PayAmount_in_total                             1890.6934709937852404\n",
      "UsedBonus_in_total                             85.478361819966124813\n",
      "DiscountAmount_in_total                        426.52899245756964319\n",
      "Product_Count                                  2.1846280536318523069\n",
      "Quantity_Count                                 2.1846280536318523069\n",
      "OrginalPrice_in_total_AfterDec13               2312.4186435079236617\n",
      "PayAmount_in_total_AfterDec13                  1812.2967621208777018\n",
      "UsedBonus_in_total_AfterDec13                  81.685559377163841077\n",
      "DiscountAmount_in_total_AfterDec13             418.43632200988412251\n",
      "Product_Count_AfterDec13                       2.1046900524327409876\n",
      "Quantity_Count_AfterDec13                      2.1046900524327409876\n",
      "OrginalPrice_in_total_AfterJun14                1777.317366536950658\n",
      "PayAmount_in_total_AfterJun14                  1386.2347956712274026\n",
      "UsedBonus_in_total_AfterJun14                   58.02348895981738508\n",
      "DiscountAmount_in_total_AfterJun14             333.05908190590582763\n",
      "Product_Count_AfterJun14                       1.5915859949579536092\n",
      "Quantity_Count_AfterJun14                      1.5915859949579536092\n",
      "SUMMA_full_Over_1000                          0.64383401905575665669\n",
      "SUMMA_full_500_1000                           0.46720038470627450744\n",
      "SUMMA_full_500                                 1.0735750749960528694\n",
      "PurchasingMorethan500RubwithoutBonus           0.7974895026164773304\n",
      "PurchasingMorethan1000RubwithoutBonus         0.45769830483638118679\n",
      "PurchasingMorethan1500RubwithoutBonus         0.32591886288750537837\n",
      "PurchasingMorethan500RubwithoutDiscount       0.68393510764655318646\n",
      "PurchasingMorethan1000RubwithoutDiscount      0.34178180508559402595\n",
      "PurchasingMorethan1500RubwithoutDiscount      0.22580751683863903301\n",
      "PurchaseOnMonday                              0.25335199076209613533\n",
      "PurchaseOnTuesday                             0.25073293356077236416\n",
      "PurchaseOnWednesday                           0.25113126140935820851\n",
      "PurchaseOnThursday                            0.26030105742628611987\n",
      "PurchaseOnFriday                              0.28487767929654889132\n",
      "PurchaseOnSaturday                            0.45262117267305851387\n",
      "PurchaseOnSunday                              0.43161195850373201832\n",
      "PurchaseOnWeekdays                             1.3003949224550617192\n",
      "PurchaseOnWeekend                             0.88423313117679047668\n",
      "PurchaseOnDawn                             2.1670686062962629589e-05\n",
      "PurchaseOnAMPeak                             0.044982152642120999675\n",
      "PurchaseOnMidDay                              0.94557561985901672497\n",
      "PurchaseOnPMPeak                              0.32553807797525619039\n",
      "PurchaseOnEvening                             0.86851053246939535768\n",
      "dtype: float64\n",
      "cluster4\n",
      "199532\n",
      "client_reg_code                                 848685619566027776\n",
      "age                                          39.536420223322572554\n",
      "sex                                         0.35968666680031274874\n",
      "ismobile                                    0.91797806868071285535\n",
      "isemail                                     0.20543070785638392617\n",
      "place_shop                                   2344.5842070444841738\n",
      "AverageVisitors                              1480.1292167770202468\n",
      "RegisterSQT                                  2138.3197164859739132\n",
      "Register_SQT_trade                           1800.0571766436196413\n",
      "OrginalPrice_in_total                        55510.628080709102505\n",
      "PayAmount_in_total                           40459.308715745675727\n",
      "UsedBonus_in_total                           4792.5400386905357664\n",
      "DiscountAmount_in_total                      10258.779326273453989\n",
      "Product_Count                                41.381372411442775672\n",
      "Quantity_Count                               41.381372411442775672\n",
      "OrginalPrice_in_total_AfterDec13             54118.633920824977395\n",
      "PayAmount_in_total_AfterDec13                39272.126646152806643\n",
      "UsedBonus_in_total_AfterDec13                4689.7502856684641301\n",
      "DiscountAmount_in_total_AfterDec13            10156.75698900424868\n",
      "Product_Count_AfterDec13                     40.320053926187277682\n",
      "Quantity_Count_AfterDec13                    40.320053926187277682\n",
      "OrginalPrice_in_total_AfterJun14              43572.21580909343902\n",
      "PayAmount_in_total_AfterJun14                31302.297198845833918\n",
      "UsedBonus_in_total_AfterJun14                3842.9225237054706668\n",
      "DiscountAmount_in_total_AfterJun14           8426.9960865425218799\n",
      "Product_Count_AfterJun14                     31.497033057354208552\n",
      "Quantity_Count_AfterJun14                    31.497033057354208552\n",
      "SUMMA_full_Over_1000                         14.388509111320489708\n",
      "SUMMA_full_500_1000                          8.8080809093278276123\n",
      "SUMMA_full_500                               18.183910350219512964\n",
      "PurchasingMorethan500RubwithoutBonus         7.7783363069582822646\n",
      "PurchasingMorethan1000RubwithoutBonus         4.735045005312430888\n",
      "PurchasingMorethan1500RubwithoutBonus        3.5642653809915203489\n",
      "PurchasingMorethan500RubwithoutDiscount       13.89930437223102011\n",
      "PurchasingMorethan1000RubwithoutDiscount     7.5702193131928714465\n",
      "PurchasingMorethan1500RubwithoutDiscount     5.4356694665517313325\n",
      "PurchaseOnMonday                             4.5489345067457849225\n",
      "PurchaseOnTuesday                            4.1773249403604433283\n",
      "PurchaseOnWednesday                           4.172999819577811742\n",
      "PurchaseOnThursday                           4.7197842952508874959\n",
      "PurchaseOnFriday                             5.3536224765952331595\n",
      "PurchaseOnSaturday                           9.2955816610869437255\n",
      "PurchaseOnSunday                              9.113124711825671298\n",
      "PurchaseOnWeekdays                           22.972666038530160648\n",
      "PurchaseOnWeekend                            18.408706372912615024\n",
      "PurchaseOnDawn                             0.001112603492171681651\n",
      "PurchaseOnAMPeak                            0.69160335184331334091\n",
      "PurchaseOnMidDay                             16.420228334302265694\n",
      "PurchaseOnPMPeak                             6.3122556782871921399\n",
      "PurchaseOnEvening                            17.956172443517832704\n",
      "dtype: float64\n"
     ]
    }
   ],
   "source": [
    "for i in range(5):\n",
    "    print('cluster' + repr(i))\n",
    "    print(MergeAllDataset_df.iloc[np.where(y_pred == i)[0].tolist()].shape[0])\n",
    "    print(MergeAllDataset_df.iloc[np.where(y_pred == i)[0].tolist()].mean())"
   ]
  },
  {
   "cell_type": "code",
   "execution_count": null,
   "metadata": {
    "collapsed": true
   },
   "outputs": [],
   "source": []
  },
  {
   "cell_type": "code",
   "execution_count": 24,
   "metadata": {
    "collapsed": false
   },
   "outputs": [],
   "source": [
    "cluster2_index = np.where(y_pred == 2)[0].tolist()"
   ]
  },
  {
   "cell_type": "code",
   "execution_count": 27,
   "metadata": {
    "collapsed": false
   },
   "outputs": [],
   "source": [
    "cluster2_df = MergeAllDataset_df.iloc[cluster2_index]"
   ]
  },
  {
   "cell_type": "code",
   "execution_count": 39,
   "metadata": {
    "collapsed": false
   },
   "outputs": [
    {
     "data": {
      "text/plain": [
       "client_reg_code                             7.200169e+17\n",
       "age                                         3.767523e+01\n",
       "sex                                         3.890670e-01\n",
       "ismobile                                    9.028518e-01\n",
       "isemail                                     1.398923e-01\n",
       "place_shop                                  2.645840e+03\n",
       "AverageVisitors                             1.519825e+03\n",
       "RegisterSQT                                 2.096621e+03\n",
       "Register_SQT_trade                          1.773951e+03\n",
       "OrginalPrice_in_total                       2.037263e+04\n",
       "PayAmount_in_total                          1.533224e+04\n",
       "UsedBonus_in_total                          1.302009e+03\n",
       "DiscountAmount_in_total                     3.738377e+03\n",
       "Product_Count                               1.635822e+01\n",
       "Quantity_Count                              1.635822e+01\n",
       "OrginalPrice_in_total_AfterDec13            1.982144e+04\n",
       "PayAmount_in_total_AfterDec13               1.485504e+04\n",
       "UsedBonus_in_total_AfterDec13               1.268859e+03\n",
       "DiscountAmount_in_total_AfterDec13          3.697539e+03\n",
       "Product_Count_AfterDec13                    1.591734e+01\n",
       "Quantity_Count_AfterDec13                   1.591734e+01\n",
       "OrginalPrice_in_total_AfterJun14            1.580006e+04\n",
       "PayAmount_in_total_AfterJun14               1.173600e+04\n",
       "UsedBonus_in_total_AfterJun14               1.012402e+03\n",
       "DiscountAmount_in_total_AfterJun14          3.051653e+03\n",
       "Product_Count_AfterJun14                    1.238560e+01\n",
       "Quantity_Count_AfterJun14                   1.238560e+01\n",
       "SUMMA_full_Over_1000                        5.358050e+00\n",
       "SUMMA_full_500_1000                         3.396806e+00\n",
       "SUMMA_full_500                              7.603155e+00\n",
       "PurchasingMorethan500RubwithoutBonus        4.228698e+00\n",
       "PurchasingMorethan1000RubwithoutBonus       2.571538e+00\n",
       "PurchasingMorethan1500RubwithoutBonus       1.922818e+00\n",
       "PurchasingMorethan500RubwithoutDiscount     5.286845e+00\n",
       "PurchasingMorethan1000RubwithoutDiscount    2.825702e+00\n",
       "PurchasingMorethan1500RubwithoutDiscount    1.991348e+00\n",
       "PurchaseOnMonday                            1.830540e+00\n",
       "PurchaseOnTuesday                           1.749096e+00\n",
       "PurchaseOnWednesday                         1.749266e+00\n",
       "PurchaseOnThursday                          1.904623e+00\n",
       "PurchaseOnFriday                            2.135096e+00\n",
       "PurchaseOnSaturday                          3.548618e+00\n",
       "PurchaseOnSunday                            3.440982e+00\n",
       "PurchaseOnWeekdays                          9.368621e+00\n",
       "PurchaseOnWeekend                           6.989599e+00\n",
       "PurchaseOnDawn                              3.259308e-04\n",
       "PurchaseOnAMPeak                            3.097757e-01\n",
       "PurchaseOnMidDay                            6.770446e+00\n",
       "PurchaseOnPMPeak                            2.465227e+00\n",
       "PurchaseOnEvening                           6.812446e+00\n",
       "dtype: float64"
      ]
     },
     "execution_count": 39,
     "metadata": {},
     "output_type": "execute_result"
    }
   ],
   "source": [
    "cluster2_df.mean()"
   ]
  },
  {
   "cell_type": "code",
   "execution_count": 30,
   "metadata": {
    "collapsed": true
   },
   "outputs": [],
   "source": [
    "cluster1_index = np.where(y_pred == 1)[0].tolist()"
   ]
  },
  {
   "cell_type": "code",
   "execution_count": 31,
   "metadata": {
    "collapsed": true
   },
   "outputs": [],
   "source": [
    "cluster1_df = MergeAllDataset_df.iloc[cluster1_index]"
   ]
  },
  {
   "cell_type": "code",
   "execution_count": 32,
   "metadata": {
    "collapsed": false
   },
   "outputs": [
    {
     "data": {
      "text/html": [
       "<div>\n",
       "<table border=\"1\" class=\"dataframe\">\n",
       "  <thead>\n",
       "    <tr style=\"text-align: right;\">\n",
       "      <th></th>\n",
       "      <th>client_reg_code</th>\n",
       "      <th>age</th>\n",
       "      <th>sex</th>\n",
       "      <th>ismobile</th>\n",
       "      <th>isemail</th>\n",
       "      <th>place_shop</th>\n",
       "      <th>AverageVisitors</th>\n",
       "      <th>RegisterSQT</th>\n",
       "      <th>Register_SQT_trade</th>\n",
       "      <th>OrginalPrice_in_total</th>\n",
       "      <th>...</th>\n",
       "      <th>PurchaseOnFriday</th>\n",
       "      <th>PurchaseOnSaturday</th>\n",
       "      <th>PurchaseOnSunday</th>\n",
       "      <th>PurchaseOnWeekdays</th>\n",
       "      <th>PurchaseOnWeekend</th>\n",
       "      <th>PurchaseOnDawn</th>\n",
       "      <th>PurchaseOnAMPeak</th>\n",
       "      <th>PurchaseOnMidDay</th>\n",
       "      <th>PurchaseOnPMPeak</th>\n",
       "      <th>PurchaseOnEvening</th>\n",
       "    </tr>\n",
       "  </thead>\n",
       "  <tbody>\n",
       "    <tr>\n",
       "      <th>count</th>\n",
       "      <td>2.625700e+04</td>\n",
       "      <td>26257.000000</td>\n",
       "      <td>26257.00000</td>\n",
       "      <td>26257.000000</td>\n",
       "      <td>26257.000000</td>\n",
       "      <td>26257.000000</td>\n",
       "      <td>26257.000000</td>\n",
       "      <td>26257.000000</td>\n",
       "      <td>26257.000000</td>\n",
       "      <td>2.625700e+04</td>\n",
       "      <td>...</td>\n",
       "      <td>26257.000000</td>\n",
       "      <td>26257.000000</td>\n",
       "      <td>26257.000000</td>\n",
       "      <td>26257.000000</td>\n",
       "      <td>26257.000000</td>\n",
       "      <td>26257.000000</td>\n",
       "      <td>26257.000000</td>\n",
       "      <td>26257.000000</td>\n",
       "      <td>26257.000000</td>\n",
       "      <td>26257.000000</td>\n",
       "    </tr>\n",
       "    <tr>\n",
       "      <th>mean</th>\n",
       "      <td>8.923178e+17</td>\n",
       "      <td>40.863122</td>\n",
       "      <td>0.34467</td>\n",
       "      <td>0.926762</td>\n",
       "      <td>0.293369</td>\n",
       "      <td>2149.306775</td>\n",
       "      <td>1454.923687</td>\n",
       "      <td>2126.221198</td>\n",
       "      <td>1782.609392</td>\n",
       "      <td>1.389335e+05</td>\n",
       "      <td>...</td>\n",
       "      <td>12.348593</td>\n",
       "      <td>20.394942</td>\n",
       "      <td>19.787104</td>\n",
       "      <td>53.064668</td>\n",
       "      <td>40.182047</td>\n",
       "      <td>0.007769</td>\n",
       "      <td>1.460563</td>\n",
       "      <td>33.912823</td>\n",
       "      <td>13.822295</td>\n",
       "      <td>44.043265</td>\n",
       "    </tr>\n",
       "    <tr>\n",
       "      <th>std</th>\n",
       "      <td>2.772897e+17</td>\n",
       "      <td>34.387634</td>\n",
       "      <td>0.47527</td>\n",
       "      <td>0.260531</td>\n",
       "      <td>0.455315</td>\n",
       "      <td>2109.962526</td>\n",
       "      <td>569.698858</td>\n",
       "      <td>1254.443786</td>\n",
       "      <td>1126.389215</td>\n",
       "      <td>6.738188e+04</td>\n",
       "      <td>...</td>\n",
       "      <td>10.483651</td>\n",
       "      <td>14.983711</td>\n",
       "      <td>14.565092</td>\n",
       "      <td>30.671957</td>\n",
       "      <td>23.399979</td>\n",
       "      <td>0.382649</td>\n",
       "      <td>3.512814</td>\n",
       "      <td>21.961800</td>\n",
       "      <td>13.386731</td>\n",
       "      <td>25.438050</td>\n",
       "    </tr>\n",
       "    <tr>\n",
       "      <th>min</th>\n",
       "      <td>1.210000e+17</td>\n",
       "      <td>0.000000</td>\n",
       "      <td>0.00000</td>\n",
       "      <td>0.000000</td>\n",
       "      <td>0.000000</td>\n",
       "      <td>244.000000</td>\n",
       "      <td>0.000000</td>\n",
       "      <td>0.000000</td>\n",
       "      <td>0.000000</td>\n",
       "      <td>4.792100e+04</td>\n",
       "      <td>...</td>\n",
       "      <td>0.000000</td>\n",
       "      <td>0.000000</td>\n",
       "      <td>0.000000</td>\n",
       "      <td>0.000000</td>\n",
       "      <td>0.000000</td>\n",
       "      <td>0.000000</td>\n",
       "      <td>0.000000</td>\n",
       "      <td>0.000000</td>\n",
       "      <td>0.000000</td>\n",
       "      <td>0.000000</td>\n",
       "    </tr>\n",
       "    <tr>\n",
       "      <th>25%</th>\n",
       "      <td>9.920000e+17</td>\n",
       "      <td>35.000000</td>\n",
       "      <td>0.00000</td>\n",
       "      <td>1.000000</td>\n",
       "      <td>0.000000</td>\n",
       "      <td>723.000000</td>\n",
       "      <td>1062.705600</td>\n",
       "      <td>1329.000000</td>\n",
       "      <td>1071.800000</td>\n",
       "      <td>1.030380e+05</td>\n",
       "      <td>...</td>\n",
       "      <td>5.000000</td>\n",
       "      <td>10.000000</td>\n",
       "      <td>10.000000</td>\n",
       "      <td>35.000000</td>\n",
       "      <td>24.000000</td>\n",
       "      <td>0.000000</td>\n",
       "      <td>0.000000</td>\n",
       "      <td>19.000000</td>\n",
       "      <td>4.000000</td>\n",
       "      <td>30.000000</td>\n",
       "    </tr>\n",
       "    <tr>\n",
       "      <th>50%</th>\n",
       "      <td>9.920000e+17</td>\n",
       "      <td>40.000000</td>\n",
       "      <td>0.00000</td>\n",
       "      <td>1.000000</td>\n",
       "      <td>0.000000</td>\n",
       "      <td>868.000000</td>\n",
       "      <td>1464.356300</td>\n",
       "      <td>1579.900000</td>\n",
       "      <td>1300.000000</td>\n",
       "      <td>1.221460e+05</td>\n",
       "      <td>...</td>\n",
       "      <td>10.000000</td>\n",
       "      <td>18.000000</td>\n",
       "      <td>17.000000</td>\n",
       "      <td>49.000000</td>\n",
       "      <td>37.000000</td>\n",
       "      <td>0.000000</td>\n",
       "      <td>0.000000</td>\n",
       "      <td>31.000000</td>\n",
       "      <td>11.000000</td>\n",
       "      <td>40.000000</td>\n",
       "    </tr>\n",
       "    <tr>\n",
       "      <th>75%</th>\n",
       "      <td>9.920000e+17</td>\n",
       "      <td>45.000000</td>\n",
       "      <td>1.00000</td>\n",
       "      <td>1.000000</td>\n",
       "      <td>1.000000</td>\n",
       "      <td>5052.000000</td>\n",
       "      <td>1837.546700</td>\n",
       "      <td>2444.000000</td>\n",
       "      <td>2071.300000</td>\n",
       "      <td>1.534520e+05</td>\n",
       "      <td>...</td>\n",
       "      <td>17.000000</td>\n",
       "      <td>27.000000</td>\n",
       "      <td>27.000000</td>\n",
       "      <td>64.000000</td>\n",
       "      <td>52.000000</td>\n",
       "      <td>0.000000</td>\n",
       "      <td>2.000000</td>\n",
       "      <td>44.000000</td>\n",
       "      <td>20.000000</td>\n",
       "      <td>52.000000</td>\n",
       "    </tr>\n",
       "    <tr>\n",
       "      <th>max</th>\n",
       "      <td>9.920000e+17</td>\n",
       "      <td>1949.000000</td>\n",
       "      <td>1.00000</td>\n",
       "      <td>1.000000</td>\n",
       "      <td>1.000000</td>\n",
       "      <td>6018.000000</td>\n",
       "      <td>3295.462600</td>\n",
       "      <td>5805.000000</td>\n",
       "      <td>4895.000000</td>\n",
       "      <td>1.439694e+06</td>\n",
       "      <td>...</td>\n",
       "      <td>146.000000</td>\n",
       "      <td>185.000000</td>\n",
       "      <td>190.000000</td>\n",
       "      <td>642.000000</td>\n",
       "      <td>318.000000</td>\n",
       "      <td>40.000000</td>\n",
       "      <td>146.000000</td>\n",
       "      <td>496.000000</td>\n",
       "      <td>216.000000</td>\n",
       "      <td>581.000000</td>\n",
       "    </tr>\n",
       "  </tbody>\n",
       "</table>\n",
       "<p>8 rows × 50 columns</p>\n",
       "</div>"
      ],
      "text/plain": [
       "       client_reg_code           age          sex      ismobile       isemail  \\\n",
       "count     2.625700e+04  26257.000000  26257.00000  26257.000000  26257.000000   \n",
       "mean      8.923178e+17     40.863122      0.34467      0.926762      0.293369   \n",
       "std       2.772897e+17     34.387634      0.47527      0.260531      0.455315   \n",
       "min       1.210000e+17      0.000000      0.00000      0.000000      0.000000   \n",
       "25%       9.920000e+17     35.000000      0.00000      1.000000      0.000000   \n",
       "50%       9.920000e+17     40.000000      0.00000      1.000000      0.000000   \n",
       "75%       9.920000e+17     45.000000      1.00000      1.000000      1.000000   \n",
       "max       9.920000e+17   1949.000000      1.00000      1.000000      1.000000   \n",
       "\n",
       "         place_shop  AverageVisitors   RegisterSQT  Register_SQT_trade  \\\n",
       "count  26257.000000     26257.000000  26257.000000        26257.000000   \n",
       "mean    2149.306775      1454.923687   2126.221198         1782.609392   \n",
       "std     2109.962526       569.698858   1254.443786         1126.389215   \n",
       "min      244.000000         0.000000      0.000000            0.000000   \n",
       "25%      723.000000      1062.705600   1329.000000         1071.800000   \n",
       "50%      868.000000      1464.356300   1579.900000         1300.000000   \n",
       "75%     5052.000000      1837.546700   2444.000000         2071.300000   \n",
       "max     6018.000000      3295.462600   5805.000000         4895.000000   \n",
       "\n",
       "       OrginalPrice_in_total        ...          PurchaseOnFriday  \\\n",
       "count           2.625700e+04        ...              26257.000000   \n",
       "mean            1.389335e+05        ...                 12.348593   \n",
       "std             6.738188e+04        ...                 10.483651   \n",
       "min             4.792100e+04        ...                  0.000000   \n",
       "25%             1.030380e+05        ...                  5.000000   \n",
       "50%             1.221460e+05        ...                 10.000000   \n",
       "75%             1.534520e+05        ...                 17.000000   \n",
       "max             1.439694e+06        ...                146.000000   \n",
       "\n",
       "       PurchaseOnSaturday  PurchaseOnSunday  PurchaseOnWeekdays  \\\n",
       "count        26257.000000      26257.000000        26257.000000   \n",
       "mean            20.394942         19.787104           53.064668   \n",
       "std             14.983711         14.565092           30.671957   \n",
       "min              0.000000          0.000000            0.000000   \n",
       "25%             10.000000         10.000000           35.000000   \n",
       "50%             18.000000         17.000000           49.000000   \n",
       "75%             27.000000         27.000000           64.000000   \n",
       "max            185.000000        190.000000          642.000000   \n",
       "\n",
       "       PurchaseOnWeekend  PurchaseOnDawn  PurchaseOnAMPeak  PurchaseOnMidDay  \\\n",
       "count       26257.000000    26257.000000      26257.000000      26257.000000   \n",
       "mean           40.182047        0.007769          1.460563         33.912823   \n",
       "std            23.399979        0.382649          3.512814         21.961800   \n",
       "min             0.000000        0.000000          0.000000          0.000000   \n",
       "25%            24.000000        0.000000          0.000000         19.000000   \n",
       "50%            37.000000        0.000000          0.000000         31.000000   \n",
       "75%            52.000000        0.000000          2.000000         44.000000   \n",
       "max           318.000000       40.000000        146.000000        496.000000   \n",
       "\n",
       "       PurchaseOnPMPeak  PurchaseOnEvening  \n",
       "count      26257.000000       26257.000000  \n",
       "mean          13.822295          44.043265  \n",
       "std           13.386731          25.438050  \n",
       "min            0.000000           0.000000  \n",
       "25%            4.000000          30.000000  \n",
       "50%           11.000000          40.000000  \n",
       "75%           20.000000          52.000000  \n",
       "max          216.000000         581.000000  \n",
       "\n",
       "[8 rows x 50 columns]"
      ]
     },
     "execution_count": 32,
     "metadata": {},
     "output_type": "execute_result"
    }
   ],
   "source": [
    "cluster1_df.describe()"
   ]
  },
  {
   "cell_type": "code",
   "execution_count": 11,
   "metadata": {
    "collapsed": false
   },
   "outputs": [
    {
     "data": {
      "text/plain": [
       "array([2, 2, 3, ..., 0, 3, 0], dtype=int32)"
      ]
     },
     "execution_count": 11,
     "metadata": {},
     "output_type": "execute_result"
    }
   ],
   "source": [
    "k_means.labels_"
   ]
  },
  {
   "cell_type": "code",
   "execution_count": 12,
   "metadata": {
    "collapsed": false
   },
   "outputs": [
    {
     "data": {
      "text/plain": [
       "array([2, 2, 3, ..., 0, 3, 0], dtype=int32)"
      ]
     },
     "execution_count": 12,
     "metadata": {},
     "output_type": "execute_result"
    }
   ],
   "source": [
    "y_pred"
   ]
  },
  {
   "cell_type": "code",
   "execution_count": 13,
   "metadata": {
    "collapsed": false
   },
   "outputs": [
    {
     "data": {
      "text/plain": [
       "{0: array([      3,      10,      13, ..., 4452050, 4452052, 4452054]),\n",
       " 1: array([     69,      74,     174, ..., 4451722, 4451747, 4451905]),\n",
       " 2: array([      0,       1,       4, ..., 4451980, 4451987, 4452005]),\n",
       " 3: array([      2,       5,       8, ..., 4452049, 4452051, 4452053]),\n",
       " 4: array([     37,      39,      48, ..., 4451961, 4452022, 4452024])}"
      ]
     },
     "execution_count": 13,
     "metadata": {},
     "output_type": "execute_result"
    }
   ],
   "source": [
    "{i: np.where(y_pred == i)[0] for i in range(k_means.n_clusters)}"
   ]
  },
  {
   "cell_type": "code",
   "execution_count": 45,
   "metadata": {
    "collapsed": true
   },
   "outputs": [],
   "source": [
    "X = MergeAllDataset_df.as_matrix()"
   ]
  },
  {
   "cell_type": "code",
   "execution_count": 49,
   "metadata": {
    "collapsed": false
   },
   "outputs": [
    {
     "data": {
      "text/plain": [
       "{0: array([  9.92000000e+17,   4.50000000e+01,   1.00000000e+00,\n",
       "          0.00000000e+00,   0.00000000e+00,   7.20000000e+02,\n",
       "          1.75170440e+03,   4.61900000e+03,   3.70900000e+03,\n",
       "          2.34910000e+04,   1.18863000e+04,   3.05000000e+02,\n",
       "          1.12997000e+04,   9.00000000e+00,   9.00000000e+00,\n",
       "          2.34910000e+04,   1.18863000e+04,   3.05000000e+02,\n",
       "          1.12997000e+04,   9.00000000e+00,   9.00000000e+00,\n",
       "          2.16950000e+04,   1.03953000e+04,   0.00000000e+00,\n",
       "          1.12997000e+04,   5.00000000e+00,   5.00000000e+00,\n",
       "          4.00000000e+00,   3.00000000e+00,   2.00000000e+00,\n",
       "          6.00000000e+00,   4.00000000e+00,   4.00000000e+00,\n",
       "          3.00000000e+00,   0.00000000e+00,   0.00000000e+00,\n",
       "          0.00000000e+00,   3.00000000e+00,   0.00000000e+00,\n",
       "          4.00000000e+00,   0.00000000e+00,   0.00000000e+00,\n",
       "          2.00000000e+00,   7.00000000e+00,   2.00000000e+00,\n",
       "          0.00000000e+00,   0.00000000e+00,   4.00000000e+00,\n",
       "          1.00000000e+00,   4.00000000e+00]),\n",
       " 1: array([  9.92000000e+17,   4.20000000e+01,   0.00000000e+00,\n",
       "          1.00000000e+00,   0.00000000e+00,   5.05200000e+03,\n",
       "          1.83754670e+03,   1.18100000e+03,   8.80000000e+02,\n",
       "          1.12908000e+05,   9.13160100e+04,   1.16060000e+04,\n",
       "          9.98599000e+03,   1.18000000e+02,   1.18000000e+02,\n",
       "          1.12908000e+05,   9.13160100e+04,   1.16060000e+04,\n",
       "          9.98599000e+03,   1.18000000e+02,   1.18000000e+02,\n",
       "          9.77110000e+04,   7.96730100e+04,   9.97700000e+03,\n",
       "          8.06099000e+03,   9.50000000e+01,   9.50000000e+01,\n",
       "          3.20000000e+01,   2.10000000e+01,   6.50000000e+01,\n",
       "          2.10000000e+01,   8.00000000e+00,   5.00000000e+00,\n",
       "          4.00000000e+01,   2.30000000e+01,   1.40000000e+01,\n",
       "          0.00000000e+00,   4.10000000e+01,   1.00000000e+01,\n",
       "          0.00000000e+00,   3.50000000e+01,   2.90000000e+01,\n",
       "          3.00000000e+00,   8.60000000e+01,   3.20000000e+01,\n",
       "          0.00000000e+00,   5.00000000e+00,   6.00000000e+01,\n",
       "          0.00000000e+00,   5.30000000e+01]),\n",
       " 2: array([  9.92000000e+17,   2.90000000e+01,   0.00000000e+00,\n",
       "          1.00000000e+00,   0.00000000e+00,   7.26000000e+02,\n",
       "          9.51602200e+02,   1.48400000e+03,   9.00000000e+02,\n",
       "          5.09600000e+03,   4.94600000e+03,   0.00000000e+00,\n",
       "          1.50000000e+02,   4.00000000e+00,   4.00000000e+00,\n",
       "          5.09600000e+03,   4.94600000e+03,   0.00000000e+00,\n",
       "          1.50000000e+02,   4.00000000e+00,   4.00000000e+00,\n",
       "          4.99000000e+02,   3.49000000e+02,   0.00000000e+00,\n",
       "          1.50000000e+02,   1.00000000e+00,   1.00000000e+00,\n",
       "          1.00000000e+00,   2.00000000e+00,   1.00000000e+00,\n",
       "          3.00000000e+00,   1.00000000e+00,   1.00000000e+00,\n",
       "          3.00000000e+00,   1.00000000e+00,   1.00000000e+00,\n",
       "          0.00000000e+00,   1.00000000e+00,   0.00000000e+00,\n",
       "          0.00000000e+00,   0.00000000e+00,   3.00000000e+00,\n",
       "          0.00000000e+00,   1.00000000e+00,   3.00000000e+00,\n",
       "          0.00000000e+00,   0.00000000e+00,   0.00000000e+00,\n",
       "          3.00000000e+00,   1.00000000e+00]),\n",
       " 3: array([  9.92000000e+17,   2.90000000e+01,   0.00000000e+00,\n",
       "          1.00000000e+00,   0.00000000e+00,   9.32000000e+02,\n",
       "          1.37243460e+03,   3.55600000e+03,   3.21900000e+03,\n",
       "          5.61900000e+04,   4.24800000e+04,   2.19000000e+03,\n",
       "          1.15200000e+04,   2.90000000e+01,   2.90000000e+01,\n",
       "          5.61900000e+04,   4.24800000e+04,   2.19000000e+03,\n",
       "          1.15200000e+04,   2.90000000e+01,   2.90000000e+01,\n",
       "          5.12560000e+04,   3.83860000e+04,   1.35000000e+03,\n",
       "          1.15200000e+04,   2.40000000e+01,   2.40000000e+01,\n",
       "          1.40000000e+01,   4.00000000e+00,   1.10000000e+01,\n",
       "          4.00000000e+00,   4.00000000e+00,   3.00000000e+00,\n",
       "          1.30000000e+01,   9.00000000e+00,   8.00000000e+00,\n",
       "          5.00000000e+00,   0.00000000e+00,   0.00000000e+00,\n",
       "          0.00000000e+00,   1.40000000e+01,   2.00000000e+00,\n",
       "          8.00000000e+00,   1.90000000e+01,   1.00000000e+01,\n",
       "          0.00000000e+00,   0.00000000e+00,   1.40000000e+01,\n",
       "          8.00000000e+00,   7.00000000e+00]),\n",
       " 4: array([  9.92000000e+17,   5.80000000e+01,   0.00000000e+00,\n",
       "          0.00000000e+00,   0.00000000e+00,   8.68000000e+02,\n",
       "          1.60194860e+03,   4.00000000e+03,   3.80000000e+03,\n",
       "          0.00000000e+00,   0.00000000e+00,   0.00000000e+00,\n",
       "          0.00000000e+00,   0.00000000e+00,   0.00000000e+00,\n",
       "          0.00000000e+00,   0.00000000e+00,   0.00000000e+00,\n",
       "          0.00000000e+00,   0.00000000e+00,   0.00000000e+00,\n",
       "          0.00000000e+00,   0.00000000e+00,   0.00000000e+00,\n",
       "          0.00000000e+00,   0.00000000e+00,   0.00000000e+00,\n",
       "          0.00000000e+00,   0.00000000e+00,   0.00000000e+00,\n",
       "          0.00000000e+00,   0.00000000e+00,   0.00000000e+00,\n",
       "          0.00000000e+00,   0.00000000e+00,   0.00000000e+00,\n",
       "          0.00000000e+00,   0.00000000e+00,   0.00000000e+00,\n",
       "          0.00000000e+00,   0.00000000e+00,   0.00000000e+00,\n",
       "          0.00000000e+00,   0.00000000e+00,   0.00000000e+00,\n",
       "          0.00000000e+00,   0.00000000e+00,   0.00000000e+00,\n",
       "          0.00000000e+00,   0.00000000e+00])}"
      ]
     },
     "execution_count": 49,
     "metadata": {},
     "output_type": "execute_result"
    }
   ],
   "source": [
    "{i: MergeAllDataset_df.as_matrix()[np.where(y_pred == i)][0] for i in range(k_means.n_clusters)}"
   ]
  },
  {
   "cell_type": "code",
   "execution_count": null,
   "metadata": {
    "collapsed": true
   },
   "outputs": [],
   "source": []
  },
  {
   "cell_type": "code",
   "execution_count": 47,
   "metadata": {
    "collapsed": true
   },
   "outputs": [],
   "source": [
    "cluster_0 = np.where(y_pred == 0)"
   ]
  },
  {
   "cell_type": "code",
   "execution_count": 48,
   "metadata": {
    "collapsed": false
   },
   "outputs": [
    {
     "data": {
      "text/plain": [
       "(array([      0,       1,       4, ..., 4451980, 4451987, 4452005]),)"
      ]
     },
     "execution_count": 48,
     "metadata": {},
     "output_type": "execute_result"
    }
   ],
   "source": [
    "cluster_0"
   ]
  },
  {
   "cell_type": "code",
   "execution_count": 32,
   "metadata": {
    "collapsed": false
   },
   "outputs": [
    {
     "ename": "TypeError",
     "evalue": "unhashable type: 'numpy.ndarray'",
     "output_type": "error",
     "traceback": [
      "\u001b[0;31m---------------------------------------------------------------------------\u001b[0m",
      "\u001b[0;31mTypeError\u001b[0m                                 Traceback (most recent call last)",
      "\u001b[0;32m<ipython-input-32-c2feee9dcefa>\u001b[0m in \u001b[0;36m<module>\u001b[0;34m()\u001b[0m\n\u001b[0;32m----> 1\u001b[0;31m \u001b[0mMergeAllDataset_df\u001b[0m\u001b[0;34m[\u001b[0m\u001b[0mcluster_0\u001b[0m\u001b[0;34m]\u001b[0m\u001b[0;34m\u001b[0m\u001b[0m\n\u001b[0m",
      "\u001b[0;32m/home/jake/anaconda3/lib/python3.5/site-packages/pandas/core/frame.py\u001b[0m in \u001b[0;36m__getitem__\u001b[0;34m(self, key)\u001b[0m\n\u001b[1;32m   2057\u001b[0m             \u001b[0;32mreturn\u001b[0m \u001b[0mself\u001b[0m\u001b[0;34m.\u001b[0m\u001b[0m_getitem_multilevel\u001b[0m\u001b[0;34m(\u001b[0m\u001b[0mkey\u001b[0m\u001b[0;34m)\u001b[0m\u001b[0;34m\u001b[0m\u001b[0m\n\u001b[1;32m   2058\u001b[0m         \u001b[0;32melse\u001b[0m\u001b[0;34m:\u001b[0m\u001b[0;34m\u001b[0m\u001b[0m\n\u001b[0;32m-> 2059\u001b[0;31m             \u001b[0;32mreturn\u001b[0m \u001b[0mself\u001b[0m\u001b[0;34m.\u001b[0m\u001b[0m_getitem_column\u001b[0m\u001b[0;34m(\u001b[0m\u001b[0mkey\u001b[0m\u001b[0;34m)\u001b[0m\u001b[0;34m\u001b[0m\u001b[0m\n\u001b[0m\u001b[1;32m   2060\u001b[0m \u001b[0;34m\u001b[0m\u001b[0m\n\u001b[1;32m   2061\u001b[0m     \u001b[0;32mdef\u001b[0m \u001b[0m_getitem_column\u001b[0m\u001b[0;34m(\u001b[0m\u001b[0mself\u001b[0m\u001b[0;34m,\u001b[0m \u001b[0mkey\u001b[0m\u001b[0;34m)\u001b[0m\u001b[0;34m:\u001b[0m\u001b[0;34m\u001b[0m\u001b[0m\n",
      "\u001b[0;32m/home/jake/anaconda3/lib/python3.5/site-packages/pandas/core/frame.py\u001b[0m in \u001b[0;36m_getitem_column\u001b[0;34m(self, key)\u001b[0m\n\u001b[1;32m   2064\u001b[0m         \u001b[0;31m# get column\u001b[0m\u001b[0;34m\u001b[0m\u001b[0;34m\u001b[0m\u001b[0m\n\u001b[1;32m   2065\u001b[0m         \u001b[0;32mif\u001b[0m \u001b[0mself\u001b[0m\u001b[0;34m.\u001b[0m\u001b[0mcolumns\u001b[0m\u001b[0;34m.\u001b[0m\u001b[0mis_unique\u001b[0m\u001b[0;34m:\u001b[0m\u001b[0;34m\u001b[0m\u001b[0m\n\u001b[0;32m-> 2066\u001b[0;31m             \u001b[0;32mreturn\u001b[0m \u001b[0mself\u001b[0m\u001b[0;34m.\u001b[0m\u001b[0m_get_item_cache\u001b[0m\u001b[0;34m(\u001b[0m\u001b[0mkey\u001b[0m\u001b[0;34m)\u001b[0m\u001b[0;34m\u001b[0m\u001b[0m\n\u001b[0m\u001b[1;32m   2067\u001b[0m \u001b[0;34m\u001b[0m\u001b[0m\n\u001b[1;32m   2068\u001b[0m         \u001b[0;31m# duplicate columns & possible reduce dimensionality\u001b[0m\u001b[0;34m\u001b[0m\u001b[0;34m\u001b[0m\u001b[0m\n",
      "\u001b[0;32m/home/jake/anaconda3/lib/python3.5/site-packages/pandas/core/generic.py\u001b[0m in \u001b[0;36m_get_item_cache\u001b[0;34m(self, item)\u001b[0m\n\u001b[1;32m   1382\u001b[0m         \u001b[0;34m\"\"\"Return the cached item, item represents a label indexer.\"\"\"\u001b[0m\u001b[0;34m\u001b[0m\u001b[0m\n\u001b[1;32m   1383\u001b[0m         \u001b[0mcache\u001b[0m \u001b[0;34m=\u001b[0m \u001b[0mself\u001b[0m\u001b[0;34m.\u001b[0m\u001b[0m_item_cache\u001b[0m\u001b[0;34m\u001b[0m\u001b[0m\n\u001b[0;32m-> 1384\u001b[0;31m         \u001b[0mres\u001b[0m \u001b[0;34m=\u001b[0m \u001b[0mcache\u001b[0m\u001b[0;34m.\u001b[0m\u001b[0mget\u001b[0m\u001b[0;34m(\u001b[0m\u001b[0mitem\u001b[0m\u001b[0;34m)\u001b[0m\u001b[0;34m\u001b[0m\u001b[0m\n\u001b[0m\u001b[1;32m   1385\u001b[0m         \u001b[0;32mif\u001b[0m \u001b[0mres\u001b[0m \u001b[0;32mis\u001b[0m \u001b[0;32mNone\u001b[0m\u001b[0;34m:\u001b[0m\u001b[0;34m\u001b[0m\u001b[0m\n\u001b[1;32m   1386\u001b[0m             \u001b[0mvalues\u001b[0m \u001b[0;34m=\u001b[0m \u001b[0mself\u001b[0m\u001b[0;34m.\u001b[0m\u001b[0m_data\u001b[0m\u001b[0;34m.\u001b[0m\u001b[0mget\u001b[0m\u001b[0;34m(\u001b[0m\u001b[0mitem\u001b[0m\u001b[0;34m)\u001b[0m\u001b[0;34m\u001b[0m\u001b[0m\n",
      "\u001b[0;31mTypeError\u001b[0m: unhashable type: 'numpy.ndarray'"
     ]
    }
   ],
   "source": [
    "MergeAllDataset_df[cluster_0]"
   ]
  },
  {
   "cell_type": "code",
   "execution_count": null,
   "metadata": {
    "collapsed": true
   },
   "outputs": [],
   "source": []
  },
  {
   "cell_type": "code",
   "execution_count": 25,
   "metadata": {
    "collapsed": false
   },
   "outputs": [
    {
     "ename": "TypeError",
     "evalue": "unhashable type: 'numpy.ndarray'",
     "output_type": "error",
     "traceback": [
      "\u001b[0;31m---------------------------------------------------------------------------\u001b[0m",
      "\u001b[0;31mTypeError\u001b[0m                                 Traceback (most recent call last)",
      "\u001b[0;32m<ipython-input-25-5695e22713a1>\u001b[0m in \u001b[0;36m<module>\u001b[0;34m()\u001b[0m\n\u001b[1;32m      1\u001b[0m \u001b[0;32mfor\u001b[0m \u001b[0mi\u001b[0m \u001b[0;32min\u001b[0m \u001b[0mrange\u001b[0m\u001b[0;34m(\u001b[0m\u001b[0;36m5\u001b[0m\u001b[0;34m)\u001b[0m\u001b[0;34m:\u001b[0m\u001b[0;34m\u001b[0m\u001b[0m\n\u001b[1;32m      2\u001b[0m     \u001b[0mindex\u001b[0m \u001b[0;34m=\u001b[0m \u001b[0mnp\u001b[0m\u001b[0;34m.\u001b[0m\u001b[0mnonzero\u001b[0m\u001b[0;34m(\u001b[0m\u001b[0my_pred\u001b[0m \u001b[0;34m==\u001b[0m \u001b[0mi\u001b[0m\u001b[0;34m)\u001b[0m\u001b[0;34m[\u001b[0m\u001b[0;36m0\u001b[0m\u001b[0;34m]\u001b[0m\u001b[0;34m\u001b[0m\u001b[0m\n\u001b[0;32m----> 3\u001b[0;31m     \u001b[0mx\u001b[0m \u001b[0;34m=\u001b[0m \u001b[0mMergeAllDataset_df\u001b[0m\u001b[0;34m[\u001b[0m\u001b[0mindex\u001b[0m\u001b[0;34m,\u001b[0m \u001b[0;34m]\u001b[0m\u001b[0;34m\u001b[0m\u001b[0m\n\u001b[0m\u001b[1;32m      4\u001b[0m     \u001b[0;32mbreak\u001b[0m\u001b[0;34m\u001b[0m\u001b[0m\n\u001b[1;32m      5\u001b[0m \u001b[0mprint\u001b[0m\u001b[0;34m(\u001b[0m\u001b[0mx\u001b[0m\u001b[0;34m)\u001b[0m\u001b[0;34m\u001b[0m\u001b[0m\n",
      "\u001b[0;32m/home/jake/anaconda3/lib/python3.5/site-packages/pandas/core/frame.py\u001b[0m in \u001b[0;36m__getitem__\u001b[0;34m(self, key)\u001b[0m\n\u001b[1;32m   2057\u001b[0m             \u001b[0;32mreturn\u001b[0m \u001b[0mself\u001b[0m\u001b[0;34m.\u001b[0m\u001b[0m_getitem_multilevel\u001b[0m\u001b[0;34m(\u001b[0m\u001b[0mkey\u001b[0m\u001b[0;34m)\u001b[0m\u001b[0;34m\u001b[0m\u001b[0m\n\u001b[1;32m   2058\u001b[0m         \u001b[0;32melse\u001b[0m\u001b[0;34m:\u001b[0m\u001b[0;34m\u001b[0m\u001b[0m\n\u001b[0;32m-> 2059\u001b[0;31m             \u001b[0;32mreturn\u001b[0m \u001b[0mself\u001b[0m\u001b[0;34m.\u001b[0m\u001b[0m_getitem_column\u001b[0m\u001b[0;34m(\u001b[0m\u001b[0mkey\u001b[0m\u001b[0;34m)\u001b[0m\u001b[0;34m\u001b[0m\u001b[0m\n\u001b[0m\u001b[1;32m   2060\u001b[0m \u001b[0;34m\u001b[0m\u001b[0m\n\u001b[1;32m   2061\u001b[0m     \u001b[0;32mdef\u001b[0m \u001b[0m_getitem_column\u001b[0m\u001b[0;34m(\u001b[0m\u001b[0mself\u001b[0m\u001b[0;34m,\u001b[0m \u001b[0mkey\u001b[0m\u001b[0;34m)\u001b[0m\u001b[0;34m:\u001b[0m\u001b[0;34m\u001b[0m\u001b[0m\n",
      "\u001b[0;32m/home/jake/anaconda3/lib/python3.5/site-packages/pandas/core/frame.py\u001b[0m in \u001b[0;36m_getitem_column\u001b[0;34m(self, key)\u001b[0m\n\u001b[1;32m   2064\u001b[0m         \u001b[0;31m# get column\u001b[0m\u001b[0;34m\u001b[0m\u001b[0;34m\u001b[0m\u001b[0m\n\u001b[1;32m   2065\u001b[0m         \u001b[0;32mif\u001b[0m \u001b[0mself\u001b[0m\u001b[0;34m.\u001b[0m\u001b[0mcolumns\u001b[0m\u001b[0;34m.\u001b[0m\u001b[0mis_unique\u001b[0m\u001b[0;34m:\u001b[0m\u001b[0;34m\u001b[0m\u001b[0m\n\u001b[0;32m-> 2066\u001b[0;31m             \u001b[0;32mreturn\u001b[0m \u001b[0mself\u001b[0m\u001b[0;34m.\u001b[0m\u001b[0m_get_item_cache\u001b[0m\u001b[0;34m(\u001b[0m\u001b[0mkey\u001b[0m\u001b[0;34m)\u001b[0m\u001b[0;34m\u001b[0m\u001b[0m\n\u001b[0m\u001b[1;32m   2067\u001b[0m \u001b[0;34m\u001b[0m\u001b[0m\n\u001b[1;32m   2068\u001b[0m         \u001b[0;31m# duplicate columns & possible reduce dimensionality\u001b[0m\u001b[0;34m\u001b[0m\u001b[0;34m\u001b[0m\u001b[0m\n",
      "\u001b[0;32m/home/jake/anaconda3/lib/python3.5/site-packages/pandas/core/generic.py\u001b[0m in \u001b[0;36m_get_item_cache\u001b[0;34m(self, item)\u001b[0m\n\u001b[1;32m   1382\u001b[0m         \u001b[0;34m\"\"\"Return the cached item, item represents a label indexer.\"\"\"\u001b[0m\u001b[0;34m\u001b[0m\u001b[0m\n\u001b[1;32m   1383\u001b[0m         \u001b[0mcache\u001b[0m \u001b[0;34m=\u001b[0m \u001b[0mself\u001b[0m\u001b[0;34m.\u001b[0m\u001b[0m_item_cache\u001b[0m\u001b[0;34m\u001b[0m\u001b[0m\n\u001b[0;32m-> 1384\u001b[0;31m         \u001b[0mres\u001b[0m \u001b[0;34m=\u001b[0m \u001b[0mcache\u001b[0m\u001b[0;34m.\u001b[0m\u001b[0mget\u001b[0m\u001b[0;34m(\u001b[0m\u001b[0mitem\u001b[0m\u001b[0;34m)\u001b[0m\u001b[0;34m\u001b[0m\u001b[0m\n\u001b[0m\u001b[1;32m   1385\u001b[0m         \u001b[0;32mif\u001b[0m \u001b[0mres\u001b[0m \u001b[0;32mis\u001b[0m \u001b[0;32mNone\u001b[0m\u001b[0;34m:\u001b[0m\u001b[0;34m\u001b[0m\u001b[0m\n\u001b[1;32m   1386\u001b[0m             \u001b[0mvalues\u001b[0m \u001b[0;34m=\u001b[0m \u001b[0mself\u001b[0m\u001b[0;34m.\u001b[0m\u001b[0m_data\u001b[0m\u001b[0;34m.\u001b[0m\u001b[0mget\u001b[0m\u001b[0;34m(\u001b[0m\u001b[0mitem\u001b[0m\u001b[0;34m)\u001b[0m\u001b[0;34m\u001b[0m\u001b[0m\n",
      "\u001b[0;31mTypeError\u001b[0m: unhashable type: 'numpy.ndarray'"
     ]
    }
   ],
   "source": [
    "for i in range(5):\n",
    "    index = np.nonzero(y_pred == i)[0]\n",
    "    x = MergeAllDataset_df[index, ]\n",
    "    break\n",
    "print(x)"
   ]
  },
  {
   "cell_type": "code",
   "execution_count": null,
   "metadata": {
    "collapsed": true
   },
   "outputs": [],
   "source": []
  },
  {
   "cell_type": "code",
   "execution_count": null,
   "metadata": {
    "collapsed": true
   },
   "outputs": [],
   "source": []
  },
  {
   "cell_type": "code",
   "execution_count": 204,
   "metadata": {
    "collapsed": false
   },
   "outputs": [
    {
     "data": {
      "text/plain": [
       "count    4.452055e+06\n",
       "mean     1.680123e-04\n",
       "std      3.944753e-02\n",
       "min      0.000000e+00\n",
       "25%      0.000000e+00\n",
       "50%      0.000000e+00\n",
       "75%      0.000000e+00\n",
       "max      4.000000e+01\n",
       "Name: PurchaseOnDawn, dtype: float64"
      ]
     },
     "execution_count": 204,
     "metadata": {},
     "output_type": "execute_result"
    }
   ],
   "source": [
    "MergeAllDataset_df['PurchaseOnDawn'].describe()"
   ]
  },
  {
   "cell_type": "code",
   "execution_count": 207,
   "metadata": {
    "collapsed": true
   },
   "outputs": [],
   "source": [
    "MergeAllDataset_df.update(MergeAllDataset_df[['PurchaseOnDawn','PurchaseOnAMPeak','PurchaseOnMidDay']].fillna(0))"
   ]
  },
  {
   "cell_type": "code",
   "execution_count": 208,
   "metadata": {
    "collapsed": false
   },
   "outputs": [
    {
     "data": {
      "text/plain": [
       "count    4.452055e+06\n",
       "mean     1.680123e-04\n",
       "std      3.944753e-02\n",
       "min      0.000000e+00\n",
       "25%      0.000000e+00\n",
       "50%      0.000000e+00\n",
       "75%      0.000000e+00\n",
       "max      4.000000e+01\n",
       "Name: PurchaseOnDawn, dtype: float64"
      ]
     },
     "execution_count": 208,
     "metadata": {},
     "output_type": "execute_result"
    }
   ],
   "source": [
    "MergeAllDataset_df['PurchaseOnDawn'].describe()"
   ]
  },
  {
   "cell_type": "code",
   "execution_count": 120,
   "metadata": {
    "collapsed": false
   },
   "outputs": [
    {
     "data": {
      "text/plain": [
       "<matplotlib.axes._subplots.AxesSubplot at 0x7f4caab028d0>"
      ]
     },
     "execution_count": 120,
     "metadata": {},
     "output_type": "execute_result"
    },
    {
     "data": {
      "image/png": "[encoded data removed]",
      "text/plain": [
       "<matplotlib.figure.Figure at 0x7f4ca2eb6ba8>"
      ]
     },
     "metadata": {},
     "output_type": "display_data"
    }
   ],
   "source": [
    "%matplotlib inline\n",
    "dataset_df['SUMMA_full_Over_1000'].hist(bins = 805)"
   ]
  },
  {
   "cell_type": "code",
   "execution_count": 139,
   "metadata": {
    "collapsed": true
   },
   "outputs": [],
   "source": [
    "#Split the dataset into X, and Y\n",
    "Y = dataset_df[\"Label\"]\n",
    "X = dataset_df.drop(\"Label\",1)\n",
    "X = X.drop(\"PayAmount_in_total\",1)\n",
    "X = X.drop(\"OrginalPrice_in_total\",1)\n",
    "# evaluate the model by splitting into train and test sets\n",
    "X_train, X_test, y_train, y_test = train_test_split(X, Y, test_size = 0.3)"
   ]
  },
  {
   "cell_type": "code",
   "execution_count": 140,
   "metadata": {
    "collapsed": false,
    "scrolled": true
   },
   "outputs": [
    {
     "name": "stdout",
     "output_type": "stream",
     "text": [
      "[0]\tvalidation_0-mlogloss:1.37567\n",
      "Will train until validation_0-mlogloss hasn't improved in 5 rounds.\n",
      "[1]\tvalidation_0-mlogloss:1.19579\n",
      "[2]\tvalidation_0-mlogloss:1.05068\n",
      "[3]\tvalidation_0-mlogloss:0.93017\n",
      "[4]\tvalidation_0-mlogloss:0.828104\n",
      "[5]\tvalidation_0-mlogloss:0.740531\n",
      "[6]\tvalidation_0-mlogloss:0.664641\n",
      "[7]\tvalidation_0-mlogloss:0.598387\n",
      "[8]\tvalidation_0-mlogloss:0.540065\n",
      "[9]\tvalidation_0-mlogloss:0.488617\n",
      "[10]\tvalidation_0-mlogloss:0.44307\n",
      "[11]\tvalidation_0-mlogloss:0.402611\n",
      "[12]\tvalidation_0-mlogloss:0.366598\n",
      "[13]\tvalidation_0-mlogloss:0.334435\n",
      "[14]\tvalidation_0-mlogloss:0.305616\n",
      "[15]\tvalidation_0-mlogloss:0.279853\n",
      "[16]\tvalidation_0-mlogloss:0.256773\n",
      "[17]\tvalidation_0-mlogloss:0.236012\n",
      "[18]\tvalidation_0-mlogloss:0.21737\n",
      "[19]\tvalidation_0-mlogloss:0.200541\n",
      "[20]\tvalidation_0-mlogloss:0.185402\n",
      "[21]\tvalidation_0-mlogloss:0.171796\n",
      "[22]\tvalidation_0-mlogloss:0.159523\n",
      "[23]\tvalidation_0-mlogloss:0.148451\n",
      "[24]\tvalidation_0-mlogloss:0.138322\n",
      "[25]\tvalidation_0-mlogloss:0.129204\n",
      "[26]\tvalidation_0-mlogloss:0.121033\n",
      "[27]\tvalidation_0-mlogloss:0.113523\n",
      "[28]\tvalidation_0-mlogloss:0.106713\n",
      "[29]\tvalidation_0-mlogloss:0.100576\n",
      "[30]\tvalidation_0-mlogloss:0.095\n",
      "[31]\tvalidation_0-mlogloss:0.089966\n",
      "[32]\tvalidation_0-mlogloss:0.08541\n",
      "[33]\tvalidation_0-mlogloss:0.081253\n",
      "[34]\tvalidation_0-mlogloss:0.077557\n",
      "[35]\tvalidation_0-mlogloss:0.074115\n",
      "[36]\tvalidation_0-mlogloss:0.071008\n",
      "[37]\tvalidation_0-mlogloss:0.068191\n",
      "[38]\tvalidation_0-mlogloss:0.065552\n",
      "[39]\tvalidation_0-mlogloss:0.063239\n",
      "[40]\tvalidation_0-mlogloss:0.060921\n",
      "[41]\tvalidation_0-mlogloss:0.058886\n",
      "[42]\tvalidation_0-mlogloss:0.056913\n",
      "[43]\tvalidation_0-mlogloss:0.055146\n",
      "[44]\tvalidation_0-mlogloss:0.053576\n",
      "[45]\tvalidation_0-mlogloss:0.052007\n",
      "[46]\tvalidation_0-mlogloss:0.050709\n",
      "[47]\tvalidation_0-mlogloss:0.049327\n",
      "[48]\tvalidation_0-mlogloss:0.048014\n",
      "[49]\tvalidation_0-mlogloss:0.046843\n"
     ]
    }
   ],
   "source": [
    "model = xgboost.XGBClassifier(n_estimators = 50)\n",
    "model.fit(X_train, y_train, eval_metric = \"mlogloss\", eval_set = [(X_test, y_test)], verbose=True, early_stopping_rounds = 5)\n",
    "# make predictions for test data\n",
    "y_pred = model.predict(X_test)\n",
    "predictions = [round(value) for value in y_pred]\n",
    "probs = model.predict_proba(X_test)"
   ]
  },
  {
   "cell_type": "code",
   "execution_count": 141,
   "metadata": {
    "collapsed": false
   },
   "outputs": [
    {
     "name": "stdout",
     "output_type": "stream",
     "text": [
      "             precision    recall  f1-score   support\n",
      "\n",
      "        0.0       0.99      0.99      0.99    230348\n",
      "        1.0       0.97      0.99      0.98    229035\n",
      "        2.0       0.97      0.97      0.97    229221\n",
      "        3.0       1.00      0.97      0.99    229569\n",
      "        4.0       1.00      1.00      1.00    417444\n",
      "\n",
      "avg / total       0.99      0.99      0.99   1335617\n",
      "\n"
     ]
    },
    {
     "data": {
      "text/plain": [
       "<matplotlib.axes._subplots.AxesSubplot at 0x7f4d13d543c8>"
      ]
     },
     "execution_count": 141,
     "metadata": {},
     "output_type": "execute_result"
    },
    {
     "data": {
      "image/png": "[encoded data removed]",
      "text/plain": [
       "<matplotlib.figure.Figure at 0x7f4c919c3d68>"
      ]
     },
     "metadata": {},
     "output_type": "display_data"
    }
   ],
   "source": [
    "print(metrics.classification_report(y_test, predictions)) \n",
    "plot_importance(model)"
   ]
  }
 ],
 "metadata": {
  "anaconda-cloud": {},
  "kernelspec": {
   "display_name": "Python [conda root]",
   "language": "python",
   "name": "conda-root-py"
  },
  "language_info": {
   "codemirror_mode": {
    "name": "ipython",
    "version": 3
   },
   "file_extension": ".py",
   "mimetype": "text/x-python",
   "name": "python",
   "nbconvert_exporter": "python",
   "pygments_lexer": "ipython3",
   "version": "3.5.2"
  }
 },
 "nbformat": 4,
 "nbformat_minor": 2
}
